{
 "cells": [
  {
   "cell_type": "markdown",
   "id": "56351bf1-6a0f-4e83-badb-19b438ebf3de",
   "metadata": {},
   "source": [
    "# Basic text classification.\n",
    "\n",
    "This practice demostrates text classification starting from a plain text files stored on disk. Training a binary classifier to perform setiment analysis on a IMDB dataset. At the end of the notebook, there is an exercise to try, in which we will train a multi-class classifier to predict the tag for a programming question on StackOverflow."
   ]
  },
  {
   "cell_type": "code",
   "execution_count": 1,
   "id": "8c96436c-85a3-44b1-a680-22d1571fef55",
   "metadata": {},
   "outputs": [
    {
     "name": "stderr",
     "output_type": "stream",
     "text": [
      "2021-07-20 21:29:09.805820: W tensorflow/stream_executor/platform/default/dso_loader.cc:64] Could not load dynamic library 'libcudart.so.11.0'; dlerror: libcudart.so.11.0: cannot open shared object file: No such file or directory\n",
      "2021-07-20 21:29:09.805850: I tensorflow/stream_executor/cuda/cudart_stub.cc:29] Ignore above cudart dlerror if you do not have a GPU set up on your machine.\n"
     ]
    }
   ],
   "source": [
    "import matplotlib.pylab as plt\n",
    "import os\n",
    "import re\n",
    "import shutil\n",
    "import string\n",
    "import tensorflow as tf\n",
    "\n",
    "from tensorflow.keras import layers, losses, preprocessing\n",
    "from tensorflow.keras.layers.experimental.preprocessing import TextVectorization"
   ]
  },
  {
   "cell_type": "code",
   "execution_count": 2,
   "id": "cf8c4231-364e-400d-aa55-17bd73ad82db",
   "metadata": {},
   "outputs": [
    {
     "name": "stdout",
     "output_type": "stream",
     "text": [
      "2.5.0\n"
     ]
    }
   ],
   "source": [
    "print(tf.__version__)"
   ]
  },
  {
   "cell_type": "markdown",
   "id": "83789fcb-cff8-44a3-9c83-1accd1cbdf55",
   "metadata": {},
   "source": [
    "# Sentiment analysis\n",
    "\n",
    "This notebook trains a setiment analysis model to classify movie reviews as *positive* or *negative*, based on the text of the review. This is an example of *binary*-or two-class-classification, an important and widely applicable kind of machine learning problem.\n",
    "\n",
    "Using the Large Movie Review Dataset that contains the text of 50,000 movie reviews from the Internet Movie Database. These are split into 25,000 reviews for training and 25,000 reviews for testing. The training and testing sets are *balanced* meaning they contain an equal number of positive and negative reviews.\n",
    "\n",
    "# Download and explore the IMDB dataset"
   ]
  },
  {
   "cell_type": "code",
   "execution_count": 3,
   "id": "fe81a80b-2ee1-4c6a-a9aa-b4e93d7fb8ba",
   "metadata": {},
   "outputs": [],
   "source": [
    "url = 'https://ai.stanford.edu/~amaas/data/sentiment/aclImdb_v1.tar.gz'\n",
    "\n",
    "dataset = tf.keras.utils.get_file('aclImdb_v1', url,\n",
    "                                  untar=True)\n",
    "dataset_dir = os.path.join(os.path.dirname(dataset), 'aclImdb')"
   ]
  },
  {
   "cell_type": "code",
   "execution_count": 4,
   "id": "d7fcc36a-47bf-4b48-b0f5-0fd3518eb272",
   "metadata": {},
   "outputs": [
    {
     "data": {
      "text/plain": [
       "'/home/leno/.keras/datasets/aclImdb'"
      ]
     },
     "execution_count": 4,
     "metadata": {},
     "output_type": "execute_result"
    }
   ],
   "source": [
    "dataset_dir"
   ]
  },
  {
   "cell_type": "code",
   "execution_count": 5,
   "id": "9926890a-f3c5-4a68-b24c-f714c188f7de",
   "metadata": {},
   "outputs": [
    {
     "data": {
      "text/plain": [
       "['imdb.vocab', 'test', 'README', 'imdbEr.txt', 'train']"
      ]
     },
     "execution_count": 5,
     "metadata": {},
     "output_type": "execute_result"
    }
   ],
   "source": [
    "os.listdir(dataset_dir)"
   ]
  },
  {
   "cell_type": "code",
   "execution_count": 6,
   "id": "ff8a1d03-7000-4ccb-a0cb-3ede5889a596",
   "metadata": {},
   "outputs": [
    {
     "data": {
      "text/plain": [
       "['urls_pos.txt',\n",
       " 'urls_neg.txt',\n",
       " 'pos',\n",
       " 'unsup',\n",
       " 'labeledBow.feat',\n",
       " 'unsupBow.feat',\n",
       " 'urls_unsup.txt',\n",
       " 'neg']"
      ]
     },
     "execution_count": 6,
     "metadata": {},
     "output_type": "execute_result"
    }
   ],
   "source": [
    "train_dir =os.path.join(dataset_dir, 'train')\n",
    "os.listdir(train_dir)"
   ]
  },
  {
   "cell_type": "markdown",
   "id": "8bc210aa-56b8-49be-b8bb-66fedfc801a7",
   "metadata": {},
   "source": [
    "The ```aclImdb/train/pos``` and ```aclImdb/train/neg``` directories contain many text files, each of which is a single movie review. Let's take a look at one of them"
   ]
  },
  {
   "cell_type": "code",
   "execution_count": 7,
   "id": "f677a444-9703-44e5-b494-8f1470aaf81d",
   "metadata": {},
   "outputs": [
    {
     "name": "stdout",
     "output_type": "stream",
     "text": [
      "Rachel Griffiths writes and directs this award winning short film. A heartwarming story about coping with grief and cherishing the memory of those we've loved and lost. Although, only 15 minutes long, Griffiths manages to capture so much emotion and truth onto film in the short space of time. Bud Tingwell gives a touching performance as Will, a widower struggling to cope with his wife's death. Will is confronted by the harsh reality of loneliness and helplessness as he proceeds to take care of Ruth's pet cow, Tulip. The film displays the grief and responsibility one feels for those they have loved and lost. Good cinematography, great direction, and superbly acted. It will bring tears to all those who have lost a loved one, and survived.\n"
     ]
    }
   ],
   "source": [
    "root_dir = os.getcwd()\n",
    "full_dir_train = os.path.join(root_dir, train_dir)\n",
    "sample_file = os.path.join(root_dir, train_dir, 'pos/1181_9.txt')\n",
    "with open(sample_file) as f:\n",
    "    print(f.read())"
   ]
  },
  {
   "cell_type": "markdown",
   "id": "2f479b1f-45d6-45dc-a134-8260faeb15e1",
   "metadata": {},
   "source": [
    "# Load the dataset\n",
    "\n",
    "Next you will load the data off disk and prepare it into a format suitable for training. To do so, you will use the helpful ```text_dataset_from_directory``` utility, which expects a directory structure as follows."
   ]
  },
  {
   "cell_type": "markdown",
   "id": "c1bf5bae-889a-4f13-8b44-aa772a61abd8",
   "metadata": {},
   "source": [
    "```\n",
    "main_directory/\n",
    "...class_a/\n",
    "......a_text_1.txt\n",
    "......a_text_2.txt\n",
    "...class_b/\n",
    "......b_text_1.txt\n",
    "......b_text_2.txt\n",
    "```\n",
    "\n",
    "To prepare a dataset for a binary classification, you will need two folders on disk, corresponding to a ```class_a``` and ```class_b```. These will be the positive and regative movie reviews, which can be found in ```aclImdb/train/pos/``` and ```aclImdb/train/neg```. As the IMDB dataset contains additional folders, you will remove them before using this utility."
   ]
  },
  {
   "cell_type": "code",
   "execution_count": 8,
   "id": "dfa43af7-7766-4894-a674-9954c0ada30e",
   "metadata": {},
   "outputs": [],
   "source": [
    "remove_dir = os.path.join(root_dir, train_dir, 'unsup')\n",
    "shutil.rmtree(remove_dir)"
   ]
  },
  {
   "cell_type": "markdown",
   "id": "c83333ac-edc7-4ae5-8d9f-73ac9396c80f",
   "metadata": {},
   "source": [
    "Next, using ```text_dataset_from_directory``` utility to create a labeled ```tf.data.Dataset``` which ```tf.data``` is a powerful collection of tools for working with data.\n",
    "\n",
    "When running a machine learning experiment, it is a best practice to divide your dataset into three splits: train, validation and test.\n",
    "\n",
    "The IMDB dataset has been already divided into train and test, but it lacks a validation set. Now create a validation set using 80:20 split of the training data by using the ```validation_split``` argument below."
   ]
  },
  {
   "cell_type": "code",
   "execution_count": 9,
   "id": "e3ad1e14-dce6-47a0-b446-ae65345d5d3f",
   "metadata": {},
   "outputs": [
    {
     "name": "stdout",
     "output_type": "stream",
     "text": [
      "Found 25000 files belonging to 2 classes.\n",
      "Using 20000 files for training.\n"
     ]
    },
    {
     "name": "stderr",
     "output_type": "stream",
     "text": [
      "2021-07-20 21:29:24.942047: W tensorflow/stream_executor/platform/default/dso_loader.cc:64] Could not load dynamic library 'libcuda.so.1'; dlerror: libcuda.so.1: cannot open shared object file: No such file or directory\n",
      "2021-07-20 21:29:24.942070: W tensorflow/stream_executor/cuda/cuda_driver.cc:326] failed call to cuInit: UNKNOWN ERROR (303)\n",
      "2021-07-20 21:29:24.942087: I tensorflow/stream_executor/cuda/cuda_diagnostics.cc:156] kernel driver does not appear to be running on this host (leno-lab): /proc/driver/nvidia/version does not exist\n",
      "2021-07-20 21:29:24.942295: I tensorflow/core/platform/cpu_feature_guard.cc:142] This TensorFlow binary is optimized with oneAPI Deep Neural Network Library (oneDNN) to use the following CPU instructions in performance-critical operations:  AVX2 FMA\n",
      "To enable them in other operations, rebuild TensorFlow with the appropriate compiler flags.\n"
     ]
    }
   ],
   "source": [
    "batch_size = 32\n",
    "seed = 42\n",
    "raw_train_ds = tf.keras.preprocessing.text_dataset_from_directory(full_dir_train,\n",
    "                                                                  batch_size=batch_size,\n",
    "                                                                  validation_split=0.2,\n",
    "                                                                  subset='training',\n",
    "                                                                  seed=seed)"
   ]
  },
  {
   "cell_type": "markdown",
   "id": "97c6ef5e-8f1e-4c12-a2de-f5a66fc7ab90",
   "metadata": {},
   "source": [
    "As you can see, there are 25,000 examples in the training folder, of which you will use 80% (or 20,000) for training. As you will see in a moment, you can train a model by passing a dataset directly to ```model.fit```. If you're new to ```tf.data```, you can also iterate over the dataset and print out few examples as follows."
   ]
  },
  {
   "cell_type": "code",
   "execution_count": 10,
   "id": "6a6c1287-bfe2-4a92-aa93-648a76104167",
   "metadata": {},
   "outputs": [
    {
     "name": "stdout",
     "output_type": "stream",
     "text": [
      "Review b'\"Pandemonium\" is a horror movie spoof that comes off more stupid than funny. Believe me when I tell you, I love comedies. Especially comedy spoofs. \"Airplane\", \"The Naked Gun\" trilogy, \"Blazing Saddles\", \"High Anxiety\", and \"Spaceballs\" are some of my favorite comedies that spoof a particular genre. \"Pandemonium\" is not up there with those films. Most of the scenes in this movie had me sitting there in stunned silence because the movie wasn\\'t all that funny. There are a few laughs in the film, but when you watch a comedy, you expect to laugh a lot more than a few times and that\\'s all this film has going for it. Geez, \"Scream\" had more laughs than this film and that was more of a horror film. How bizarre is that?<br /><br />*1/2 (out of four)'\n",
      "Label 0\n",
      "Review b\"David Mamet is a very interesting and a very un-equal director. His first movie 'House of Games' was the one I liked best, and it set a series of films with characters whose perspective of life changes as they get into complicated situations, and so does the perspective of the viewer.<br /><br />So is 'Homicide' which from the title tries to set the mind of the viewer to the usual crime drama. The principal characters are two cops, one Jewish and one Irish who deal with a racially charged area. The murder of an old Jewish shop owner who proves to be an ancient veteran of the Israeli Independence war triggers the Jewish identity in the mind and heart of the Jewish detective.<br /><br />This is were the flaws of the film are the more obvious. The process of awakening is theatrical and hard to believe, the group of Jewish militants is operatic, and the way the detective eventually walks to the final violent confrontation is pathetic. The end of the film itself is Mamet-like smart, but disappoints from a human emotional perspective.<br /><br />Joe Mantegna and William Macy give strong performances, but the flaws of the story are too evident to be easily compensated.\"\n",
      "Label 0\n",
      "Review b'Great documentary about the lives of NY firefighters during the worst terrorist attack of all time.. That reason alone is why this should be a must see collectors item.. What shocked me was not only the attacks, but the\"High Fat Diet\" and physical appearance of some of these firefighters. I think a lot of Doctors would agree with me that,in the physical shape they were in, some of these firefighters would NOT of made it to the 79th floor carrying over 60 lbs of gear. Having said that i now have a greater respect for firefighters and i realize becoming a firefighter is a life altering job. The French have a history of making great documentary\\'s and that is what this is, a Great Documentary.....'\n",
      "Label 1\n"
     ]
    },
    {
     "name": "stderr",
     "output_type": "stream",
     "text": [
      "2021-07-20 21:29:24.972100: I tensorflow/compiler/mlir/mlir_graph_optimization_pass.cc:176] None of the MLIR Optimization Passes are enabled (registered 2)\n",
      "2021-07-20 21:29:24.972727: I tensorflow/core/platform/profile_utils/cpu_utils.cc:114] CPU Frequency: 3194440000 Hz\n"
     ]
    }
   ],
   "source": [
    "for text_batch, label_batch in raw_train_ds.take(1):\n",
    "    for i in range(3):\n",
    "        print('Review', text_batch.numpy()[i])\n",
    "        print('Label', label_batch.numpy()[i])"
   ]
  },
  {
   "cell_type": "markdown",
   "id": "6f98186b-42b9-4743-9e91-56edeb7bbbd7",
   "metadata": {},
   "source": [
    "Notice that the reviews contain raw text (with punctuation and ocassional HTML tags like ```<br/>```.\n",
    "\n",
    "The labels are 0 or 1. To see which of these correspond to positive and negative movie reviews. you can check the ```class_names``` property on the dataset."
   ]
  },
  {
   "cell_type": "code",
   "execution_count": 11,
   "id": "0ca6d12d-9b5f-4360-bb87-eb833092627e",
   "metadata": {},
   "outputs": [
    {
     "name": "stdout",
     "output_type": "stream",
     "text": [
      "Label 0 corresponds to neg\n",
      "Label 1 corresponds to pos\n"
     ]
    }
   ],
   "source": [
    "print('Label 0 corresponds to', raw_train_ds.class_names[0])\n",
    "print('Label 1 corresponds to', raw_train_ds.class_names[1])"
   ]
  },
  {
   "cell_type": "markdown",
   "id": "e8b80a8d-ba29-4183-9844-0eb0f1de2659",
   "metadata": {},
   "source": [
    "Next, create the validation and test dataset. Using the remaining 5,000 reviews from the training set for validation.\n",
    "\n",
    "### Note : When using the ```validation_split``` and ```subset``` arguments, make sure to specify a random seed, or to pass ```shuffle=False```, so that the validation and training splits have no overlap."
   ]
  },
  {
   "cell_type": "code",
   "execution_count": 12,
   "id": "cf28a92d-bc2e-4f7e-8e0a-7f6b03b521f6",
   "metadata": {},
   "outputs": [
    {
     "name": "stdout",
     "output_type": "stream",
     "text": [
      "Found 25000 files belonging to 2 classes.\n",
      "Using 5000 files for validation.\n"
     ]
    }
   ],
   "source": [
    "raw_val_ds = tf.keras.preprocessing.text_dataset_from_directory(full_dir_train,\n",
    "                                                                batch_size=batch_size,\n",
    "                                                                validation_split=0.2,\n",
    "                                                                subset='validation',\n",
    "                                                                seed=seed)"
   ]
  },
  {
   "cell_type": "code",
   "execution_count": 13,
   "id": "2ab1ff69-5de0-4d94-8a2d-7192354b7559",
   "metadata": {},
   "outputs": [
    {
     "name": "stdout",
     "output_type": "stream",
     "text": [
      "Found 25000 files belonging to 2 classes.\n"
     ]
    }
   ],
   "source": [
    "test_dir =os.path.join(dataset_dir, 'test')\n",
    "full_dir_test = os.path.join(root_dir, test_dir)\n",
    "raw_test_ds = tf.keras.preprocessing.text_dataset_from_directory(full_dir_test,\n",
    "                                                                 batch_size=batch_size)"
   ]
  },
  {
   "cell_type": "markdown",
   "id": "4815d364-1c30-407d-a0d8-0b428a725c0e",
   "metadata": {},
   "source": [
    "# Prepare the dataset for training\n",
    "\n",
    "Next, standarize, tokenize, and vectorize the data using the helpful ```preprocessing.TextVectorization``` layer.\n",
    "\n",
    "Standarization refers to preprocessing the text, typically to remove punctuation or HTML elements to simplify the dataset. Tokenization refers to splitting strings into tokens (for example, splitting a sentence into individual words, by splitting on whitespace). Vectorization refers to converting tokens into numbers so they can be fed into a neural network. All of these tasks can be accomplished with this layer.\n",
    "\n",
    "As seeing above, the reviews contain various HTML tags like ```<br/>```. These tags will not be removed by the default standarizer ```TextVectorization``` layer (which converts text to lowercase and strips punctuation by default, but doesn't strip HTML). You will write a custon standarization function to remove the HTML.\n",
    "\n",
    "# Note: to prevent train/test skew (also know as train/serving skew). It is important to preprocess the data indentically at train and test time. To facilitate this, ```TextVectorization``` layer can be included directly inside your model, as shown later in this notebook."
   ]
  },
  {
   "cell_type": "code",
   "execution_count": 14,
   "id": "e34f8189-debd-4ecf-8889-25affecefa40",
   "metadata": {},
   "outputs": [],
   "source": [
    "def custom_standardization(input_data):\n",
    "    lowercase = tf.strings.lower(input_data)\n",
    "    stripped_html = tf.strings.regex_replace(lowercase, '<br />', ' ')\n",
    "    return tf.strings.regex_replace(stripped_html,\n",
    "                                    '[%s]' % re.escape(string.punctuation),\n",
    "                                    '')"
   ]
  },
  {
   "cell_type": "markdown",
   "id": "1624665a-61b6-4b33-bcec-38f323d0a055",
   "metadata": {},
   "source": [
    "Next, create ```TextVectorization``` layer. This layer is to standarize, tokenize, and vectorize our data. You set the ```output_mode``` to ```int``` to create unique integer indeces for each token (word). \n",
    "\n",
    "Note that you're using default split function, and the custom stadardization function you defined above. You'll also define some constants for the model, like an explicit maximun ```sequence_length```, which will cause the layer to pad or truncate sequences to exactly ```sequence_length``` values."
   ]
  },
  {
   "cell_type": "code",
   "execution_count": 15,
   "id": "7c846cdc-8fe0-4da7-a463-722f985c1a34",
   "metadata": {},
   "outputs": [],
   "source": [
    "max_features = 10000\n",
    "sequence_length = 250\n",
    "\n",
    "vectorize_layer = TextVectorization(standardize=custom_standardization, max_tokens=max_features, output_mode='int', output_sequence_length=sequence_length)"
   ]
  },
  {
   "cell_type": "markdown",
   "id": "6ff416d4-d512-4499-945b-5174453897de",
   "metadata": {},
   "source": [
    "Next, call ```adapt``` to fit the state of preprocessing layer to the dataset. This will cause the model to build an index of strings and integers.\n",
    "\n",
    "*Note: it's important to only use your training data when calling adapt(using the test set would leak information)* "
   ]
  },
  {
   "cell_type": "code",
   "execution_count": 16,
   "id": "4ee183c9-be5b-49f8-ac8d-d65b43d25ef0",
   "metadata": {},
   "outputs": [],
   "source": [
    "# Make a text-only dataset (without labels), then call adapt.\n",
    "train_text = raw_train_ds.map(lambda x, y: x)\n",
    "vectorize_layer.adapt(train_text)"
   ]
  },
  {
   "cell_type": "markdown",
   "id": "f0e553d7-0ff9-41d8-9ce2-99cf5777f0c9",
   "metadata": {},
   "source": [
    "A new function to see the result of using this layer to preprocess some data."
   ]
  },
  {
   "cell_type": "code",
   "execution_count": 17,
   "id": "685073a9-2c6b-4fa1-a294-dca574dc091c",
   "metadata": {},
   "outputs": [],
   "source": [
    "def vectorize_text(text, label):\n",
    "    text = tf.expand_dims(text, -1)\n",
    "    return vectorize_layer(text), label"
   ]
  },
  {
   "cell_type": "code",
   "execution_count": 18,
   "id": "7fea4d2f-0d60-45d5-a8c0-5c19a64daf42",
   "metadata": {},
   "outputs": [
    {
     "name": "stdout",
     "output_type": "stream",
     "text": [
      "Review tf.Tensor(b'Great movie - especially the music - Etta James - \"At Last\". This speaks volumes when you have finally found that special someone.', shape=(), dtype=string)\n",
      "Label neg\n",
      "Vectorized review (<tf.Tensor: shape=(1, 250), dtype=int64, numpy=\n",
      "array([[  86,   17,  260,    2,  222,    1,  571,   31,  229,   11, 2418,\n",
      "           1,   51,   22,   25,  404,  251,   12,  306,  282,    0,    0,\n",
      "           0,    0,    0,    0,    0,    0,    0,    0,    0,    0,    0,\n",
      "           0,    0,    0,    0,    0,    0,    0,    0,    0,    0,    0,\n",
      "           0,    0,    0,    0,    0,    0,    0,    0,    0,    0,    0,\n",
      "           0,    0,    0,    0,    0,    0,    0,    0,    0,    0,    0,\n",
      "           0,    0,    0,    0,    0,    0,    0,    0,    0,    0,    0,\n",
      "           0,    0,    0,    0,    0,    0,    0,    0,    0,    0,    0,\n",
      "           0,    0,    0,    0,    0,    0,    0,    0,    0,    0,    0,\n",
      "           0,    0,    0,    0,    0,    0,    0,    0,    0,    0,    0,\n",
      "           0,    0,    0,    0,    0,    0,    0,    0,    0,    0,    0,\n",
      "           0,    0,    0,    0,    0,    0,    0,    0,    0,    0,    0,\n",
      "           0,    0,    0,    0,    0,    0,    0,    0,    0,    0,    0,\n",
      "           0,    0,    0,    0,    0,    0,    0,    0,    0,    0,    0,\n",
      "           0,    0,    0,    0,    0,    0,    0,    0,    0,    0,    0,\n",
      "           0,    0,    0,    0,    0,    0,    0,    0,    0,    0,    0,\n",
      "           0,    0,    0,    0,    0,    0,    0,    0,    0,    0,    0,\n",
      "           0,    0,    0,    0,    0,    0,    0,    0,    0,    0,    0,\n",
      "           0,    0,    0,    0,    0,    0,    0,    0,    0,    0,    0,\n",
      "           0,    0,    0,    0,    0,    0,    0,    0,    0,    0,    0,\n",
      "           0,    0,    0,    0,    0,    0,    0,    0,    0,    0,    0,\n",
      "           0,    0,    0,    0,    0,    0,    0,    0,    0,    0,    0,\n",
      "           0,    0,    0,    0,    0,    0,    0,    0]])>, <tf.Tensor: shape=(), dtype=int32, numpy=0>)\n"
     ]
    }
   ],
   "source": [
    "# retrieve a batch (of 32 reviews labels) from the dataset\n",
    "\n",
    "text_batch, label_batch = next(iter(raw_train_ds))\n",
    "first_review, first_label = text_batch[0], label_batch[0]\n",
    "print(\"Review\", first_review)\n",
    "print(\"Label\", raw_train_ds.class_names[first_label])\n",
    "print(\"Vectorized review\", vectorize_text(first_review, first_label))"
   ]
  },
  {
   "cell_type": "code",
   "execution_count": 19,
   "id": "37f38f29-0573-42c2-ac96-1eb4010b540b",
   "metadata": {},
   "outputs": [
    {
     "name": "stdout",
     "output_type": "stream",
     "text": [
      "1287 --->  silent\n",
      " 313 ---> night\n",
      "Vocabulary size: 10000\n"
     ]
    }
   ],
   "source": [
    "print(\"1287 ---> \", vectorize_layer.get_vocabulary()[1287])\n",
    "print(\" 313 --->\", vectorize_layer.get_vocabulary()[313])\n",
    "print(\"Vocabulary size: {}\".format(len(vectorize_layer.get_vocabulary())))"
   ]
  },
  {
   "cell_type": "markdown",
   "id": "80071c8e-3168-4917-a7d4-e4b8c6158299",
   "metadata": {},
   "source": [
    "Now apply ```TextVectorization``` layer created earlier to the train, validation and test dataset. "
   ]
  },
  {
   "cell_type": "code",
   "execution_count": 20,
   "id": "ab0b342b-7d82-4220-938a-73f801264ee9",
   "metadata": {},
   "outputs": [],
   "source": [
    "train_ds = raw_test_ds.map(vectorize_text)\n",
    "val_ds = raw_val_ds.map(vectorize_text)\n",
    "test_ds = raw_test_ds.map(vectorize_text)"
   ]
  },
  {
   "cell_type": "markdown",
   "id": "73a5d95e-ee7a-4136-95b5-042bc3835c78",
   "metadata": {},
   "source": [
    "# Configure the dataset for performance\n",
    "\n",
    "These are two important methods you should use when loading data to make sure that I/O does not become blocking.\n",
    "\n",
    "```.cache()``` keeps data in memory after it's loaded off disk. This will ensure that dataset does not become a bottleneck while training your model. If the dataset is too large to fit into memory, we can also use this method to create a performant on-disk cache, which is more efficient to read than many small files.\n",
    "\n",
    "```prefectch()``` overlaps data preprocessing and model execution while training.\n",
    "\n",
    "*Note: check https://www.tensorflow.org/guide/data_performance* "
   ]
  },
  {
   "cell_type": "code",
   "execution_count": 21,
   "id": "d6f58a8a-112e-46f9-b957-b3a5a7572d6c",
   "metadata": {},
   "outputs": [],
   "source": [
    "AUTOTUNE = tf.data.AUTOTUNE\n",
    "\n",
    "train_ds = train_ds.cache().prefetch(buffer_size=AUTOTUNE)\n",
    "val_ds = val_ds.cache().prefetch(buffer_size=AUTOTUNE)\n",
    "test_ds = test_ds.cache().prefetch(buffer_size=AUTOTUNE)"
   ]
  },
  {
   "cell_type": "markdown",
   "id": "1f893918-c23d-4aa9-be23-bd21c80fb722",
   "metadata": {},
   "source": [
    "## Create the model"
   ]
  },
  {
   "cell_type": "code",
   "execution_count": 22,
   "id": "1a7631e5-40cd-4022-a698-a63927cc125e",
   "metadata": {},
   "outputs": [],
   "source": [
    "embedding_dim = 16"
   ]
  },
  {
   "cell_type": "code",
   "execution_count": 23,
   "id": "301c2910-f4bb-4611-95bc-2c7bd1d204ff",
   "metadata": {},
   "outputs": [],
   "source": [
    "model = tf.keras.Sequential([\n",
    "    layers.Embedding(max_features + 1, embedding_dim),\n",
    "    layers.Dropout(0.2),\n",
    "    layers.GlobalAveragePooling1D(),\n",
    "    layers.Dropout(0.2),\n",
    "    layers.Dense(1)\n",
    "])"
   ]
  },
  {
   "cell_type": "code",
   "execution_count": 24,
   "id": "c947489c-1a3a-4e08-a185-3e5491dc083d",
   "metadata": {},
   "outputs": [
    {
     "name": "stdout",
     "output_type": "stream",
     "text": [
      "Model: \"sequential\"\n",
      "_________________________________________________________________\n",
      "Layer (type)                 Output Shape              Param #   \n",
      "=================================================================\n",
      "embedding (Embedding)        (None, None, 16)          160016    \n",
      "_________________________________________________________________\n",
      "dropout (Dropout)            (None, None, 16)          0         \n",
      "_________________________________________________________________\n",
      "global_average_pooling1d (Gl (None, 16)                0         \n",
      "_________________________________________________________________\n",
      "dropout_1 (Dropout)          (None, 16)                0         \n",
      "_________________________________________________________________\n",
      "dense (Dense)                (None, 1)                 17        \n",
      "=================================================================\n",
      "Total params: 160,033\n",
      "Trainable params: 160,033\n",
      "Non-trainable params: 0\n",
      "_________________________________________________________________\n"
     ]
    }
   ],
   "source": [
    "model.summary()"
   ]
  },
  {
   "cell_type": "markdown",
   "id": "3e0b7824-fb08-4390-8db9-61fe7f754cc8",
   "metadata": {},
   "source": [
    "The layers are stacked sequentially to build the classifier:\n",
    "    1. The first layer is an ```Embedding```. This layer takes the integer-encoded reviews and looks up an embedding vector for each word-index. These vectors are learned as the model trains. The vectors add a dimension to the output array. The result dimensions are: ```(batch, sequence, embedding)```. To learn more about embeddings, see https://www.tensorflow.org/tutorials/text/word_embeddings.\n",
    "    2. Next, a ```GlobalAveragePooling1D``` layers returns a fixed-length output vector for each example by averaging over the sequence dimension. This allows the model to handle input of variable length, in the simplest way possible.\n",
    "    3. This fixed-length output vector is piped through a fully-connected (```Dense```) layer with 16 hidden units.\n",
    "    4. The last layer is densely connected with a single output node.\n",
    "    \n",
    " # Loss function and optimizer\n",
    " \n",
    " A model needs a loss function and an optimizer for training. Since this is a binary classification problem model outputs a probability (a single-unit layer with sigmoid activation), we use here ```losses.BinaryCrossentropy``` loss function.\n",
    " \n",
    " Now, configure the model to use an optimizer and a loss function:"
   ]
  },
  {
   "cell_type": "code",
   "execution_count": 25,
   "id": "be618ebd-23e0-444a-b22f-cf0e094db086",
   "metadata": {},
   "outputs": [],
   "source": [
    "model.compile(loss=losses.BinaryCrossentropy(from_logits=True),\n",
    "              optimizer='adam',\n",
    "              metrics=tf.metrics.BinaryAccuracy(threshold=0.0))"
   ]
  },
  {
   "cell_type": "markdown",
   "id": "0a23e16f-3ec9-414c-bb47-64de76dbd4e5",
   "metadata": {},
   "source": [
    "# Train the model\n",
    "\n",
    "You will train the model by passing the ```dataset``` object to the fit method."
   ]
  },
  {
   "cell_type": "code",
   "execution_count": 26,
   "id": "da53a0dc-497d-487d-a07a-1afdf240175f",
   "metadata": {},
   "outputs": [
    {
     "name": "stdout",
     "output_type": "stream",
     "text": [
      "Epoch 1/10\n",
      "782/782 [==============================] - 5s 5ms/step - loss: 0.6511 - binary_accuracy: 0.7182 - val_loss: 0.5879 - val_binary_accuracy: 0.7654\n",
      "Epoch 2/10\n",
      "782/782 [==============================] - 3s 4ms/step - loss: 0.5100 - binary_accuracy: 0.8153 - val_loss: 0.4641 - val_binary_accuracy: 0.8268\n",
      "Epoch 3/10\n",
      "782/782 [==============================] - 4s 5ms/step - loss: 0.4046 - binary_accuracy: 0.8582 - val_loss: 0.3956 - val_binary_accuracy: 0.8488\n",
      "Epoch 4/10\n",
      "782/782 [==============================] - 3s 4ms/step - loss: 0.3441 - binary_accuracy: 0.8770 - val_loss: 0.3598 - val_binary_accuracy: 0.8558\n",
      "Epoch 5/10\n",
      "782/782 [==============================] - 3s 4ms/step - loss: 0.3051 - binary_accuracy: 0.8880 - val_loss: 0.3392 - val_binary_accuracy: 0.8594\n",
      "Epoch 6/10\n",
      "782/782 [==============================] - 3s 4ms/step - loss: 0.2777 - binary_accuracy: 0.8969 - val_loss: 0.3271 - val_binary_accuracy: 0.8646\n",
      "Epoch 7/10\n",
      "782/782 [==============================] - 4s 5ms/step - loss: 0.2563 - binary_accuracy: 0.9046 - val_loss: 0.3198 - val_binary_accuracy: 0.8680\n",
      "Epoch 8/10\n",
      "782/782 [==============================] - 4s 5ms/step - loss: 0.2385 - binary_accuracy: 0.9112 - val_loss: 0.3164 - val_binary_accuracy: 0.8678\n",
      "Epoch 9/10\n",
      "782/782 [==============================] - 3s 4ms/step - loss: 0.2236 - binary_accuracy: 0.9181 - val_loss: 0.3158 - val_binary_accuracy: 0.8674\n",
      "Epoch 10/10\n",
      "782/782 [==============================] - 3s 4ms/step - loss: 0.2109 - binary_accuracy: 0.9214 - val_loss: 0.3167 - val_binary_accuracy: 0.8666\n"
     ]
    }
   ],
   "source": [
    "epochs = 10 \n",
    "history = model.fit(\n",
    "    train_ds,\n",
    "    validation_data=val_ds,\n",
    "    epochs=epochs)"
   ]
  },
  {
   "cell_type": "markdown",
   "id": "02625888-c1d4-4b3e-ba56-cd74237168a8",
   "metadata": {},
   "source": [
    "# Evaluate the model\n",
    "\n",
    "Let's see how the model performs. Two values will be returned. Loss(a number which represents our error, lower values are better), and accuracy."
   ]
  },
  {
   "cell_type": "code",
   "execution_count": 27,
   "id": "54289047-26c0-4211-9cdf-2e04ff351075",
   "metadata": {},
   "outputs": [
    {
     "name": "stdout",
     "output_type": "stream",
     "text": [
      "782/782 [==============================] - 2s 3ms/step - loss: 0.1976 - binary_accuracy: 0.9276\n",
      "Loss:  0.19761088490486145\n",
      "Accuracy:  0.9275599718093872\n"
     ]
    }
   ],
   "source": [
    "loss, accuracy = model.evaluate(test_ds)\n",
    "\n",
    "print(\"Loss: \", loss)\n",
    "print(\"Accuracy: \", accuracy)"
   ]
  },
  {
   "cell_type": "markdown",
   "id": "38785237-b6f7-4bfd-bd18-d029a6832abd",
   "metadata": {},
   "source": [
    "This approach gives an accuracy of about 92%\n",
    "\n",
    "# Create a plot of accuracy and loss over time\n",
    "\n",
    "```model.fit()``` returns a ```History``` object that contains dictionary with everything that happened during training:"
   ]
  },
  {
   "cell_type": "code",
   "execution_count": 28,
   "id": "c59e80a9-6515-4e8a-98b4-a7cc3475410c",
   "metadata": {},
   "outputs": [
    {
     "data": {
      "text/plain": [
       "dict_keys(['loss', 'binary_accuracy', 'val_loss', 'val_binary_accuracy'])"
      ]
     },
     "execution_count": 28,
     "metadata": {},
     "output_type": "execute_result"
    }
   ],
   "source": [
    "history_dict = history.history\n",
    "history_dict.keys()"
   ]
  },
  {
   "cell_type": "markdown",
   "id": "41ca6b41-84b8-46d9-aa1e-b260c2b9f253",
   "metadata": {},
   "source": [
    "There are four entries: one for each monitored metric during training and validation. You can use these to plot the training and validation loss for comparison, as well as the training and validation accuracy:"
   ]
  },
  {
   "cell_type": "code",
   "execution_count": 29,
   "id": "86997c43-85a6-4565-9d88-979a893d2ae0",
   "metadata": {},
   "outputs": [
    {
     "data": {
      "image/png": "[encoded data removed]",
      "text/plain": [
       "<Figure size 432x288 with 1 Axes>"
      ]
     },
     "metadata": {
      "needs_background": "light"
     },
     "output_type": "display_data"
    }
   ],
   "source": [
    "acc = history_dict['binary_accuracy']\n",
    "val_acc = history_dict['val_binary_accuracy']\n",
    "loss = history_dict['loss']\n",
    "val_loss = history_dict['val_loss']\n",
    "\n",
    "epochs = range(1, len(acc) + 1)\n",
    "\n",
    "# \"bo\" is for \"blue dot\"\n",
    "plt.plot(epochs, loss, 'bo', label='Training Loss')\n",
    "# b is for \"Solid Blue\"\n",
    "plt.plot(epochs, val_loss, 'b', label='Validation Loss')\n",
    "plt.title('Training and Validation Loss')\n",
    "plt.xlabel('Epochs')\n",
    "plt.ylabel('Loss')\n",
    "plt.legend()\n",
    "plt.show()"
   ]
  },
  {
   "cell_type": "code",
   "execution_count": 30,
   "id": "88698ebc-6887-4793-83e1-742425b9482c",
   "metadata": {},
   "outputs": [
    {
     "data": {
      "image/png": "[encoded data removed]",
      "text/plain": [
       "<Figure size 432x288 with 1 Axes>"
      ]
     },
     "metadata": {
      "needs_background": "light"
     },
     "output_type": "display_data"
    }
   ],
   "source": [
    "plt.plot(epochs, acc, 'bo', label='Training Accuracy')\n",
    "plt.plot(epochs, val_acc, 'b', label='Validation Accuracy')\n",
    "plt.title('Training and Validation Accuracy')\n",
    "plt.xlabel('Epochs')\n",
    "plt.ylabel('Accuracy')\n",
    "plt.legend(loc='lower right')\n",
    "plt.show()"
   ]
  },
  {
   "cell_type": "markdown",
   "id": "2e8d7c6f-1489-42ff-8aac-86c16b5de302",
   "metadata": {},
   "source": [
    "In this plot, the dots represent the training loss and accuracy, and the solid lines are the validation loss and accuracy.\n",
    "\n",
    "Notice the training *loss decreases* with each epoch and the training accuracy *increases* with each epoch. This is expected when using a gradient descent optimization-it should minimize the desired quantity on every iteration.\n",
    "\n",
    "This isn't the case for the validation loss and accuracy-they seems to peak before the training accuracy. This is an example of overfitting: The model performs better on the training data than it does on data it has never seen before. After this point, the model over-optimizes and learns representations *specific* to the training data that do not *generalize* to test data.\n",
    "\n",
    "For this particular case, you could prevent overfitting by simply stopping the training when the validation accuracy is no longer increasing. One way to do is to use the ```tf.keras.callbacks.EarlyStopping``` callback.\n",
    "\n",
    "# Export the model \n",
    "\n",
    "In the code above, you applied the ```TextVectorization``` layer to the dataset before feeding text to the model, If you want to make your model capable of processing raw strings (for example, to simplify deploying it), you can include ```TextVectorization``` layer inside your model. To do so, you can create a new model using the weights of the model just trained."
   ]
  },
  {
   "cell_type": "code",
   "execution_count": 31,
   "id": "9a5e9b27-06ed-4a16-bb49-6c209306ce4c",
   "metadata": {},
   "outputs": [
    {
     "name": "stdout",
     "output_type": "stream",
     "text": [
      "782/782 [==============================] - 4s 5ms/step - loss: 0.1976 - accuracy: 0.9276\n",
      "0.9275599718093872\n"
     ]
    }
   ],
   "source": [
    "export_model = tf.keras.Sequential([\n",
    "    vectorize_layer,\n",
    "    model,\n",
    "    layers.Activation('sigmoid')\n",
    "])\n",
    "\n",
    "export_model.compile(\n",
    "    loss=losses.BinaryCrossentropy(from_logits=False), optimizer='adam', metrics=['accuracy'])\n",
    "\n",
    "# Test it with `raw_test_ds`, which yields raw strings.\n",
    "loss, accuracy = export_model.evaluate(raw_test_ds)\n",
    "print(accuracy)"
   ]
  },
  {
   "cell_type": "markdown",
   "id": "94a667fc-3ea3-41ae-ad71-2abdc769d8fe",
   "metadata": {},
   "source": [
    "# Inference on new data\n",
    "\n",
    "To get predictions for new examples, you can simply call ```model.predict()```"
   ]
  },
  {
   "cell_type": "code",
   "execution_count": 32,
   "id": "aa165421-66d4-4904-bb05-452de76df253",
   "metadata": {},
   "outputs": [],
   "source": [
    "examples = [\n",
    "    'The movie was great!',\n",
    "    'The movie was okay.',\n",
    "    'The movie was terrible...'\n",
    "]"
   ]
  },
  {
   "cell_type": "code",
   "execution_count": 33,
   "id": "66753e6f-eace-4d50-ac94-162a3abde7e2",
   "metadata": {},
   "outputs": [
    {
     "data": {
      "text/plain": [
       "array([[0.7278813 ],\n",
       "       [0.5214233 ],\n",
       "       [0.35994366]], dtype=float32)"
      ]
     },
     "execution_count": 33,
     "metadata": {},
     "output_type": "execute_result"
    }
   ],
   "source": [
    "export_model.predict(examples)"
   ]
  },
  {
   "cell_type": "markdown",
   "id": "bddcfbe0-a42a-4f10-94d5-20ae5e3aec2c",
   "metadata": {},
   "source": [
    "Including the text preprocessing logic inside your model enables you to exoirt a model for production that simplifies deployment, and reduces the potential for train/test skew.\n",
    "\n",
    "There is a performance difference to keep in mind when choosing where to apply the ```TextVectorization``` layer. Using it outside of your model enables you to do asynchronous CPU processing and buffering of your data when training GPU. So, if you're training the model on the GPU, you probably want to go with this option to get the best performance while developing the model, then switch to including the TextVectorization layer inside your model when you're ready to prepare for deployment. \n",
    "\n",
    "https://www.tensorflow.org/tutorials/keras/save_and_load"
   ]
  },
  {
   "cell_type": "markdown",
   "id": "da5074bb-52cf-4b37-92d1-d2e968c65eff",
   "metadata": {},
   "source": [
    "# Exercise: Multi-class classification.\n",
    "\n",
    "As an exercise, you can modify this notebook to train a multi-class classifier to predict the tag of a programming question on Stack Overflow.\n",
    "\n",
    "A dataset has been prepared for you to use containing the body of several thousand programming questions(For example: \"How can sort a dictionary by value in Python?\") posted to Stack Overflow. Each of these is labeled with exactly one tag (either Python, CSharp, JavaScript or Java). The task is to take a question as input, and predict the appropiate tag, in this case, Python.\n",
    "\n",
    "The dataset contains several thousand questions extracted from the much larger public Stack Overflow dataset on BigQuery, which contains more than 17 million posts.\n",
    "\n",
    "https://console.cloud.google.com/marketplace/details/stack-exchange/stack-overflow"
   ]
  }
 ],
 "metadata": {
  "kernelspec": {
   "display_name": "Python 3 (ipykernel)",
   "language": "python",
   "name": "python3"
  },
  "language_info": {
   "codemirror_mode": {
    "name": "ipython",
    "version": 3
   },
   "file_extension": ".py",
   "mimetype": "text/x-python",
   "name": "python",
   "nbconvert_exporter": "python",
   "pygments_lexer": "ipython3",
   "version": "3.9.6"
  }
 },
 "nbformat": 4,
 "nbformat_minor": 5
}
