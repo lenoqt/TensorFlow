{
 "cells": [
  {
   "cell_type": "markdown",
   "id": "caac4f4a-645a-4daa-a7c8-6f02f5945703",
   "metadata": {},
   "source": [
    "# Overfit and underfit\n",
    "\n",
    "In previous examples-classifiying text and predicting the fuel efficiency- we saw that the accuracy of the models on the validation data would peak after training for a number of epochs, and would then stagnate or start decreasing.\n",
    "\n",
    "In other words, our model would *overfit* to the training data. Learning how to deal with overfitting is important. Although it's often possible to achieve high accuracy on the *training set*, what we really want is to develop models that generalize well to a *testing set* (or data they haven't seen before).\n",
    "\n",
    "The opposite of overfitting is *underfitting*. Underfitting occurs when there is still room for improvement on the train data. This can happen for a number of reasons: If the model is not powerful enough, is over-regularized, or has simply not been trained long enough. This means the network has not learned the relevant patterns in the training data.\n",
    "\n",
    "If you train for too long though, the model will start to overfit and learn patterns from the training data that don't generalize to the test data. We need to strike a balance. Understanding how to train for an appropiate number of epochs as we'll explore below is a useful skill.\n",
    "\n",
    "To prevent overfitting, the best solution is to use more complete training data. The dataset should cover the full ranfge of inputs that the model is expected to handle. Additional data may only be useful if it covers new and interesting cases.\n",
    "\n",
    "A model trained on more complete data will naturally generalize better. When that is no longer possible, the next best solution is to use techniques like regularization. These place constraints on the quantity and type of information your model can store. If a network can only afford to memorize a small number of patterns, the optimization process will for it to focus on the most prominent patterns, which have a better chance of generalizing well.\n",
    "\n",
    "In this notebook, we'll explore several common regularization techniques, and use them to improve on a classification model.\n"
   ]
  },
  {
   "cell_type": "code",
   "execution_count": 4,
   "id": "187e86dc-a87d-4d92-9c3a-f06be840e036",
   "metadata": {},
   "outputs": [],
   "source": [
    "import tensorflow as tf\n",
    "\n",
    "from tensorflow.keras import layers\n",
    "from tensorflow.keras import regularizers"
   ]
  },
  {
   "cell_type": "code",
   "execution_count": 1,
   "id": "f8dbabad-2d9e-4ee2-8240-6c003c1ea099",
   "metadata": {},
   "outputs": [],
   "source": [
    "import tensorflow_docs as tfdocs\n",
    "import tensorflow_docs.modeling\n",
    "import tensorflow_docs.plots"
   ]
  },
  {
   "cell_type": "code",
   "execution_count": 2,
   "id": "f88304fc-08c3-4156-a809-59c765896f6a",
   "metadata": {},
   "outputs": [],
   "source": [
    "from IPython import display\n",
    "from matplotlib import pyplot as plt\n",
    "import numpy as np\n",
    "import pathlib\n",
    "import shutil\n",
    "import tempfile"
   ]
  },
  {
   "cell_type": "code",
   "execution_count": 3,
   "id": "09b92c8b-9d8c-48d5-9cb3-14bf8f5e035a",
   "metadata": {},
   "outputs": [],
   "source": [
    "logdir = pathlib.Path(tempfile.mkdtemp())/\"tensorboard_logs\"\n",
    "shutil.rmtree(logdir, ignore_errors=True)"
   ]
  },
  {
   "cell_type": "markdown",
   "id": "a03d58cf-ceab-4d5c-87a6-aa19fb14178b",
   "metadata": {},
   "source": [
    "# The Higgs Dataset\n",
    "\n",
    "The goal of this tutorial is not to particle physics, so we don't dwell on the details of the dataset. It contains 11,000,000 examples, each with 28 features, and a binary class label."
   ]
  },
  {
   "cell_type": "code",
   "execution_count": 5,
   "id": "30fa491f-6496-4ae6-b6d2-1666ba929a06",
   "metadata": {},
   "outputs": [
    {
     "name": "stdout",
     "output_type": "stream",
     "text": [
      "Downloading data from http://mlphysics.ics.uci.edu/data/higgs/HIGGS.csv.gz\n",
      "2816409600/2816407858 [==============================] - 150s 0us/step\n"
     ]
    }
   ],
   "source": [
    "gz = tf.keras.utils.get_file('HIGGS.csv.gz', 'http://mlphysics.ics.uci.edu/data/higgs/HIGGS.csv.gz')"
   ]
  },
  {
   "cell_type": "code",
   "execution_count": 6,
   "id": "a1a7479f-4475-4027-b983-ee013ab435ce",
   "metadata": {},
   "outputs": [],
   "source": [
    "FEATURES = 28"
   ]
  },
  {
   "cell_type": "markdown",
   "id": "5742a242-1ef2-4cba-ad80-af16ce774a00",
   "metadata": {},
   "source": [
    "The ```tf.data.experimental.CsvDataset``` class can be used to read csv records directly from a gzip file with no intermediate decompression step"
   ]
  },
  {
   "cell_type": "code",
   "execution_count": 7,
   "id": "9f17bdd5-6241-42a1-93e9-6c83a5400d97",
   "metadata": {},
   "outputs": [
    {
     "name": "stderr",
     "output_type": "stream",
     "text": [
      "2021-07-28 12:14:52.862673: W tensorflow/stream_executor/platform/default/dso_loader.cc:64] Could not load dynamic library 'libcuda.so.1'; dlerror: libcuda.so.1: cannot open shared object file: No such file or directory\n",
      "2021-07-28 12:14:52.862702: W tensorflow/stream_executor/cuda/cuda_driver.cc:326] failed call to cuInit: UNKNOWN ERROR (303)\n",
      "2021-07-28 12:14:52.862721: I tensorflow/stream_executor/cuda/cuda_diagnostics.cc:156] kernel driver does not appear to be running on this host (leno-lab): /proc/driver/nvidia/version does not exist\n",
      "2021-07-28 12:14:52.862948: I tensorflow/core/platform/cpu_feature_guard.cc:142] This TensorFlow binary is optimized with oneAPI Deep Neural Network Library (oneDNN) to use the following CPU instructions in performance-critical operations:  AVX2 FMA\n",
      "To enable them in other operations, rebuild TensorFlow with the appropriate compiler flags.\n"
     ]
    }
   ],
   "source": [
    "ds = tf.data.experimental.CsvDataset(gz, [float(),]*(FEATURES+1), compression_type='GZIP')"
   ]
  },
  {
   "cell_type": "markdown",
   "id": "a375ad74-7102-4249-8e45-e7f6bb7d4bd7",
   "metadata": {},
   "source": [
    "That csv reader class return a list of scalars for each record. The following function repacks that list of scalars into a (feature_vector, label) pair."
   ]
  },
  {
   "cell_type": "code",
   "execution_count": 8,
   "id": "3136898d-ff74-41b1-b140-fd8c4b141867",
   "metadata": {},
   "outputs": [],
   "source": [
    "def pack_row(*row):\n",
    "    label = row[0]\n",
    "    features = tf.stack(row[1:], 1)\n",
    "    return features, label"
   ]
  },
  {
   "cell_type": "markdown",
   "id": "332e3785-c5f3-44c6-aed7-325b3253c142",
   "metadata": {},
   "source": [
    "TensorFlow is most efficient when operating on large batches of data.\n",
    "\n",
    "So instead of repacking each row individually make a new ```Dataset``` that takes batches of 10000-examples, applies the ```pack_row``` function to each batch, and then splits the batches back up into individual records:"
   ]
  },
  {
   "cell_type": "code",
   "execution_count": 9,
   "id": "c14845ca-0123-4014-93f2-4fe60a65ff19",
   "metadata": {},
   "outputs": [],
   "source": [
    "packed_ds = ds.batch(10000).map(pack_row).unbatch()"
   ]
  },
  {
   "cell_type": "markdown",
   "id": "56626e68-4ad9-46c4-af3c-d928640264a4",
   "metadata": {},
   "source": [
    "Have a look at some of the records from this new ```packed_ds```.\n",
    "\n",
    "The features are not perfectly normalized, but this is sufficient for this tutorial."
   ]
  },
  {
   "cell_type": "code",
   "execution_count": 10,
   "id": "78653804-b785-48e9-9750-8580c4ba455a",
   "metadata": {},
   "outputs": [
    {
     "name": "stderr",
     "output_type": "stream",
     "text": [
      "2021-07-28 12:22:21.578169: I tensorflow/compiler/mlir/mlir_graph_optimization_pass.cc:176] None of the MLIR Optimization Passes are enabled (registered 2)\n",
      "2021-07-28 12:22:21.578699: I tensorflow/core/platform/profile_utils/cpu_utils.cc:114] CPU Frequency: 3194440000 Hz\n"
     ]
    },
    {
     "name": "stdout",
     "output_type": "stream",
     "text": [
      "tf.Tensor(\n",
      "[ 0.8692932  -0.6350818   0.22569026  0.32747006 -0.6899932   0.75420225\n",
      " -0.24857314 -1.0920639   0.          1.3749921  -0.6536742   0.9303491\n",
      "  1.1074361   1.1389043  -1.5781983  -1.0469854   0.          0.65792954\n",
      " -0.01045457 -0.04576717  3.1019614   1.35376     0.9795631   0.97807616\n",
      "  0.92000484  0.72165745  0.98875093  0.87667835], shape=(28,), dtype=float32)\n"
     ]
    },
    {
     "data": {
      "image/png": "[encoded data removed]",
      "text/plain": [
       "<Figure size 432x288 with 1 Axes>"
      ]
     },
     "metadata": {
      "needs_background": "light"
     },
     "output_type": "display_data"
    }
   ],
   "source": [
    "for features, label in packed_ds.batch(10000).take(1):\n",
    "    print(features[0])\n",
    "    plt.hist(features.numpy().flatten(), bins=101)"
   ]
  },
  {
   "cell_type": "markdown",
   "id": "f58e3be8-041a-4bac-b117-ae3a33342224",
   "metadata": {},
   "source": [
    "To keep this relatively short, we'll use just the first 1000 samples for validation, and the next 10000 for training:"
   ]
  },
  {
   "cell_type": "code",
   "execution_count": 11,
   "id": "e7d773b0-93a5-4db1-9e9c-47bf08e9e6b4",
   "metadata": {},
   "outputs": [],
   "source": [
    "N_VALIDATION = int(1e3)\n",
    "N_TRAIN = int(1e4)\n",
    "BUFFER_SIZE = int(1e4)\n",
    "BATCH_SIZE = 500\n",
    "STEPS_PER_EPOCH = N_TRAIN/BATCH_SIZE"
   ]
  },
  {
   "cell_type": "markdown",
   "id": "9523d8f4-9231-427a-89ea-dfed1ec72570",
   "metadata": {},
   "source": [
    "The ```Dataset.skip``` and ```Dataset.take``` methods make this easy.\n",
    "\n",
    "At the same time, use the ```Dataset.cache``` method to ensure that the loader doesn't need to re-read the data from the file on each epoch:"
   ]
  },
  {
   "cell_type": "code",
   "execution_count": 12,
   "id": "7cf6876f-c3ee-4481-a317-68825baade3c",
   "metadata": {},
   "outputs": [],
   "source": [
    "validate_ds = packed_ds.take(N_VALIDATION).cache()\n",
    "train_ds = packed_ds.skip(N_VALIDATION).take(N_TRAIN).cache()"
   ]
  },
  {
   "cell_type": "code",
   "execution_count": 13,
   "id": "8461b07e-3c18-4b56-b4df-66f356723a00",
   "metadata": {},
   "outputs": [
    {
     "data": {
      "text/plain": [
       "<CacheDataset shapes: ((28,), ()), types: (tf.float32, tf.float32)>"
      ]
     },
     "execution_count": 13,
     "metadata": {},
     "output_type": "execute_result"
    }
   ],
   "source": [
    "train_ds"
   ]
  },
  {
   "cell_type": "markdown",
   "id": "633fc315-89e7-4359-94b7-c646952c6b76",
   "metadata": {},
   "source": [
    "These datasets return individual examples. Use the ```batch``` method to create batches of an appropiate size for training. Before batche also remember to ```.shuffle``` and ```.repeat``` the training set."
   ]
  },
  {
   "cell_type": "code",
   "execution_count": 14,
   "id": "938570ef-376a-45cf-8f91-1bffad9a096b",
   "metadata": {},
   "outputs": [],
   "source": [
    "validate_ds = validate_ds.batch(BATCH_SIZE)\n",
    "train_ds = train_ds.shuffle(BUFFER_SIZE).repeat().batch(BATCH_SIZE)"
   ]
  },
  {
   "cell_type": "markdown",
   "id": "a60192d5-3a74-48c5-9bb9-27eab01bb582",
   "metadata": {},
   "source": [
    "# Demonstrate overfitting\n",
    "\n",
    "The simplest way to prevent overfitting is to start with a small model: A model with a small number of learnable parameters (which is determined by the number of layers and the units per layer). In deep learning, the number of learnable parameters in a model is often referred to as the model's \"capacity\".\n",
    "\n",
    "Intuitively, a model with more parameters will have more \"memorization capacity\" and therefore will be able to easily learn a perfect dictionary-like mapping between training samples and their targets, a mapping without any generalization power, but this would be useless when making predictions on previously unseen data.\n",
    "\n",
    "Always keep this in mind: deep learning models tend to be good at fitting to the training data, but the real challenge is generalization, not fitting.\n",
    "\n",
    "On the other hand, if the network has limited memorization resources, it will not be able to learn the mapping as easily. To minimize its loss, it will have to learn compressed representations that have more predictive power. At the same time, if you make your model too small, it will have difficulty fitting to the training data. There is a balance between \"too much capacity\" and \"not enough capacity\".\n",
    "\n",
    "Unfornately, there is not magical formula to determine the right size of architecture of you r model (in terms of the numbers of layers, or the right size for each layer). You will have to experiment using a series of different architectures.\n",
    "\n",
    "To find an appropiate size, it's best to start with a relatively few layers and parameters, then begin increasing the size of the layers or adding new layers until you see diminishing returns on the validation loss.\n",
    "\n",
    "Start with a simple model using only ```layers.Dense``` as baseline, then create larger versions, and compare them.\n",
    "\n",
    "\n",
    "# Training procedure\n",
    "\n",
    "Many models train better if you gradually reduce the learning rate during training. Use ```optimizers.schedules``` to reduce the learning rate over time:"
   ]
  },
  {
   "cell_type": "code",
   "execution_count": 15,
   "id": "b1f97495-3432-44a7-883f-0ef86e0aa8d6",
   "metadata": {},
   "outputs": [],
   "source": [
    "lr_schedule = tf.keras.optimizers.schedules.InverseTimeDecay(0.001,\n",
    "                                                             decay_steps=STEPS_PER_EPOCH*1000,\n",
    "                                                             decay_rate=1,\n",
    "                                                             staircase=False)"
   ]
  },
  {
   "cell_type": "code",
   "execution_count": 16,
   "id": "d789f421-2429-4df6-866d-b2f17cd740c2",
   "metadata": {},
   "outputs": [],
   "source": [
    "def get_optimizer():\n",
    "    return tf.keras.optimizers.Adam(lr_schedule)"
   ]
  },
  {
   "cell_type": "markdown",
   "id": "743bc682-b112-4f81-b17b-ed12a1d078a9",
   "metadata": {},
   "source": [
    "The code above sets a ```schedules.InverseTimeDecay``` to hyperbolically decrease the learning rate to 1/2 of the base rate at 1000 epochs, 1/3 at 2000 epochs and so on"
   ]
  },
  {
   "cell_type": "code",
   "execution_count": 18,
   "id": "f59c327f-900b-4b82-8a76-699bd1bb9cdb",
   "metadata": {},
   "outputs": [
    {
     "data": {
      "image/png": "[encoded data removed]",
      "text/plain": [
       "<Figure size 576x432 with 1 Axes>"
      ]
     },
     "metadata": {
      "needs_background": "light"
     },
     "output_type": "display_data"
    }
   ],
   "source": [
    "step = np.linspace(0, 100000)\n",
    "lr = lr_schedule(step)\n",
    "plt.figure(figsize=(8,6))\n",
    "plt.plot(step/STEPS_PER_EPOCH, lr)\n",
    "plt.ylim([0,max(plt.ylim())])\n",
    "plt.xlabel('Epoch')\n",
    "_ = plt.ylabel('Learning Rate')"
   ]
  },
  {
   "cell_type": "markdown",
   "id": "c740edb1-c0f4-45fc-80c3-a9e1439efd3c",
   "metadata": {},
   "source": [
    "Each model in this tutorial will use the same training configuration. So set these up in a reusable way, starting with the list of callbacks.\n",
    "\n",
    "The training for this tutorial runs for many short epochs. To reduce the logging noise use the ```tfdocs.EpochDtos``` which simply prints a ```.``` for each epoch, and a full set of metrics every 100 epochs.\n",
    "\n",
    "Next, include ```callbacks.EarlyStopping``` to avoid long and unnecessary training times. Note that this callback is set to monitor the ```val_binary_crossentropy```, not the ```val_loss```. This difference will be important later.\n",
    "\n",
    "Use ```callbacks.TensorBoard``` to generate TensorBoard logs for the training."
   ]
  },
  {
   "cell_type": "code",
   "execution_count": 19,
   "id": "2f6c6eb4-95ea-46d4-81a0-29e09ed3a114",
   "metadata": {},
   "outputs": [],
   "source": [
    "def get_callbacks(name):\n",
    "    return [\n",
    "        tfdocs.modeling.EpochDots(),\n",
    "        tf.keras.callbacks.EarlyStopping(monitor='val_binary_crossentropy', patience=200),\n",
    "        tf.keras.callbacks.TensorBoard(logdir/name)\n",
    "    ]"
   ]
  },
  {
   "cell_type": "markdown",
   "id": "ab0426a5-e850-4eb4-b928-e3c4cb6e1e0c",
   "metadata": {},
   "source": [
    "Similarly each model will use the same ```Model.compile``` and ```Model.fit``` settings:"
   ]
  },
  {
   "cell_type": "code",
   "execution_count": 20,
   "id": "7811b9ff-8818-485b-9712-af998ca1fddd",
   "metadata": {},
   "outputs": [],
   "source": [
    "def compile_and_fit(model, name, optimizer=None, max_epochs=10000):\n",
    "    if optimizer is None:\n",
    "        optimizer = get_optimizer()\n",
    "    model.compile(optimizer=optimizer,\n",
    "                  loss=tf.keras.losses.BinaryCrossentropy(from_logits=True),\n",
    "                  metrics=[\n",
    "                      tf.keras.losses.BinaryCrossentropy(from_logits=True, name='binary_crossentropy'),\n",
    "                      'accuracy'\n",
    "                  ])\n",
    "    model.summary()\n",
    "    history = model.fit(\n",
    "        train_ds,\n",
    "        steps_per_epoch=STEPS_PER_EPOCH,\n",
    "        epochs=max_epochs,\n",
    "        validation_data=validate_ds,\n",
    "        callbacks=get_callbacks(name),\n",
    "        verbose=0)\n",
    "    return history"
   ]
  },
  {
   "cell_type": "markdown",
   "id": "8afb3925-120c-437c-8cb5-bee06a03ec0f",
   "metadata": {},
   "source": [
    "# Tiny model \n",
    "\n",
    "Start by training a model:\n"
   ]
  },
  {
   "cell_type": "code",
   "execution_count": 21,
   "id": "c4ef085a-450c-4bf0-b9b7-21e8f56ac601",
   "metadata": {},
   "outputs": [],
   "source": [
    "tiny_model = tf.keras.Sequential([\n",
    "    layers.Dense(16, activation='elu', input_shape=(FEATURES,)),\n",
    "    layers.Dense(1)\n",
    "])"
   ]
  },
  {
   "cell_type": "code",
   "execution_count": 22,
   "id": "68cb2837-b08a-4452-840f-5305fe459da5",
   "metadata": {},
   "outputs": [],
   "source": [
    "size_histories = {}"
   ]
  },
  {
   "cell_type": "code",
   "execution_count": 23,
   "id": "465b50be-b716-41e4-bd88-6574705225d1",
   "metadata": {},
   "outputs": [
    {
     "name": "stdout",
     "output_type": "stream",
     "text": [
      "Model: \"sequential\"\n",
      "_________________________________________________________________\n",
      "Layer (type)                 Output Shape              Param #   \n",
      "=================================================================\n",
      "dense (Dense)                (None, 16)                464       \n",
      "_________________________________________________________________\n",
      "dense_1 (Dense)              (None, 1)                 17        \n",
      "=================================================================\n",
      "Total params: 481\n",
      "Trainable params: 481\n",
      "Non-trainable params: 0\n",
      "_________________________________________________________________\n"
     ]
    },
    {
     "name": "stderr",
     "output_type": "stream",
     "text": [
      "2021-07-28 12:52:02.632351: I tensorflow/core/profiler/lib/profiler_session.cc:126] Profiler session initializing.\n",
      "2021-07-28 12:52:02.632423: I tensorflow/core/profiler/lib/profiler_session.cc:141] Profiler session started.\n",
      "2021-07-28 12:52:02.633214: I tensorflow/core/profiler/lib/profiler_session.cc:159] Profiler session tear down.\n"
     ]
    },
    {
     "name": "stdout",
     "output_type": "stream",
     "text": [
      "WARNING:tensorflow:Callback method `on_train_batch_end` is slow compared to the batch time (batch time: 0.0018s vs `on_train_batch_end` time: 0.0069s). Check your callbacks.\n"
     ]
    },
    {
     "name": "stderr",
     "output_type": "stream",
     "text": [
      "2021-07-28 12:52:04.233491: I tensorflow/core/profiler/lib/profiler_session.cc:126] Profiler session initializing.\n",
      "2021-07-28 12:52:04.233523: I tensorflow/core/profiler/lib/profiler_session.cc:141] Profiler session started.\n",
      "2021-07-28 12:52:04.237137: I tensorflow/core/profiler/lib/profiler_session.cc:66] Profiler session collecting data.\n",
      "2021-07-28 12:52:04.243015: I tensorflow/core/profiler/lib/profiler_session.cc:159] Profiler session tear down.\n",
      "2021-07-28 12:52:04.253867: I tensorflow/core/profiler/rpc/client/save_profile.cc:137] Creating directory: /tmp/tmpip7vzgpl/tensorboard_logs/sizes/Tiny/train/plugins/profile/2021_07_28_12_52_04\n",
      "2021-07-28 12:52:04.260342: I tensorflow/core/profiler/rpc/client/save_profile.cc:143] Dumped gzipped tool data for trace.json.gz to /tmp/tmpip7vzgpl/tensorboard_logs/sizes/Tiny/train/plugins/profile/2021_07_28_12_52_04/leno-lab.trace.json.gz\n",
      "2021-07-28 12:52:04.265465: I tensorflow/core/profiler/rpc/client/save_profile.cc:137] Creating directory: /tmp/tmpip7vzgpl/tensorboard_logs/sizes/Tiny/train/plugins/profile/2021_07_28_12_52_04\n",
      "2021-07-28 12:52:04.265554: I tensorflow/core/profiler/rpc/client/save_profile.cc:143] Dumped gzipped tool data for memory_profile.json.gz to /tmp/tmpip7vzgpl/tensorboard_logs/sizes/Tiny/train/plugins/profile/2021_07_28_12_52_04/leno-lab.memory_profile.json.gz\n",
      "2021-07-28 12:52:04.265709: I tensorflow/core/profiler/rpc/client/capture_profile.cc:251] Creating directory: /tmp/tmpip7vzgpl/tensorboard_logs/sizes/Tiny/train/plugins/profile/2021_07_28_12_52_04Dumped tool data for xplane.pb to /tmp/tmpip7vzgpl/tensorboard_logs/sizes/Tiny/train/plugins/profile/2021_07_28_12_52_04/leno-lab.xplane.pb\n",
      "Dumped tool data for overview_page.pb to /tmp/tmpip7vzgpl/tensorboard_logs/sizes/Tiny/train/plugins/profile/2021_07_28_12_52_04/leno-lab.overview_page.pb\n",
      "Dumped tool data for input_pipeline.pb to /tmp/tmpip7vzgpl/tensorboard_logs/sizes/Tiny/train/plugins/profile/2021_07_28_12_52_04/leno-lab.input_pipeline.pb\n",
      "Dumped tool data for tensorflow_stats.pb to /tmp/tmpip7vzgpl/tensorboard_logs/sizes/Tiny/train/plugins/profile/2021_07_28_12_52_04/leno-lab.tensorflow_stats.pb\n",
      "Dumped tool data for kernel_stats.pb to /tmp/tmpip7vzgpl/tensorboard_logs/sizes/Tiny/train/plugins/profile/2021_07_28_12_52_04/leno-lab.kernel_stats.pb\n",
      "\n"
     ]
    },
    {
     "name": "stdout",
     "output_type": "stream",
     "text": [
      "\n",
      "Epoch: 0, accuracy:0.5004,  binary_crossentropy:0.7677,  loss:0.7677,  val_accuracy:0.4530,  val_binary_crossentropy:0.7576,  val_loss:0.7576,  \n",
      "....................................................................................................\n",
      "Epoch: 100, accuracy:0.6085,  binary_crossentropy:0.6214,  loss:0.6214,  val_accuracy:0.5980,  val_binary_crossentropy:0.6212,  val_loss:0.6212,  \n",
      "....................................................................................................\n",
      "Epoch: 200, accuracy:0.6326,  binary_crossentropy:0.6075,  loss:0.6075,  val_accuracy:0.6290,  val_binary_crossentropy:0.6022,  val_loss:0.6022,  \n",
      "....................................................................................................\n",
      "Epoch: 300, accuracy:0.6518,  binary_crossentropy:0.5981,  loss:0.5981,  val_accuracy:0.6070,  val_binary_crossentropy:0.5998,  val_loss:0.5998,  \n",
      "....................................................................................................\n",
      "Epoch: 400, accuracy:0.6533,  binary_crossentropy:0.5933,  loss:0.5933,  val_accuracy:0.6200,  val_binary_crossentropy:0.5926,  val_loss:0.5926,  \n",
      "....................................................................................................\n",
      "Epoch: 500, accuracy:0.6578,  binary_crossentropy:0.5883,  loss:0.5883,  val_accuracy:0.6710,  val_binary_crossentropy:0.5871,  val_loss:0.5871,  \n",
      "....................................................................................................\n",
      "Epoch: 600, accuracy:0.6645,  binary_crossentropy:0.5857,  loss:0.5857,  val_accuracy:0.6440,  val_binary_crossentropy:0.5886,  val_loss:0.5886,  \n",
      "....................................................................................................\n",
      "Epoch: 700, accuracy:0.6666,  binary_crossentropy:0.5831,  loss:0.5831,  val_accuracy:0.6700,  val_binary_crossentropy:0.5877,  val_loss:0.5877,  \n",
      "............................................................................................."
     ]
    }
   ],
   "source": [
    "size_histories['Tiny'] = compile_and_fit(tiny_model, 'sizes/Tiny')"
   ]
  },
  {
   "cell_type": "code",
   "execution_count": 24,
   "id": "468eeb6a-a9be-4311-ba2b-d37a723331ce",
   "metadata": {},
   "outputs": [
    {
     "data": {
      "text/plain": [
       "(0.5, 0.7)"
      ]
     },
     "execution_count": 24,
     "metadata": {},
     "output_type": "execute_result"
    },
    {
     "data": {
      "image/png": "[encoded data removed]",
      "text/plain": [
       "<Figure size 432x288 with 1 Axes>"
      ]
     },
     "metadata": {
      "needs_background": "light"
     },
     "output_type": "display_data"
    }
   ],
   "source": [
    "plotter = tfdocs.plots.HistoryPlotter(metric='binary_crossentropy', smoothing_std=10)\n",
    "plotter.plot(size_histories)\n",
    "plt.ylim([0.5, 0.7])"
   ]
  },
  {
   "cell_type": "markdown",
   "id": "514c2913-7d73-47c6-9d41-8134f7df5b9b",
   "metadata": {},
   "source": [
    "# Small model\n",
    "\n",
    "To see if you can beat the performance of the small model, progressively train some larger models.\n",
    "\n",
    "Try two hidden layers with 16 units each:"
   ]
  },
  {
   "cell_type": "code",
   "execution_count": 25,
   "id": "e44bedb4-3ef0-4d3f-b213-4f464ba28b83",
   "metadata": {},
   "outputs": [],
   "source": [
    "small_model = tf.keras.Sequential([\n",
    "    # input_shape is only required here so that .summary works.\n",
    "    layers.Dense(16, activation='elu', input_shape=(FEATURES,)),\n",
    "    layers.Dense(16, activation='elu'),\n",
    "    layers.Dense(1)\n",
    "])"
   ]
  },
  {
   "cell_type": "code",
   "execution_count": 26,
   "id": "acaa37fa-a756-4ba1-863d-9827030de8d1",
   "metadata": {},
   "outputs": [
    {
     "name": "stdout",
     "output_type": "stream",
     "text": [
      "Model: \"sequential_1\"\n",
      "_________________________________________________________________\n",
      "Layer (type)                 Output Shape              Param #   \n",
      "=================================================================\n",
      "dense_2 (Dense)              (None, 16)                464       \n",
      "_________________________________________________________________\n",
      "dense_3 (Dense)              (None, 16)                272       \n",
      "_________________________________________________________________\n",
      "dense_4 (Dense)              (None, 1)                 17        \n",
      "=================================================================\n",
      "Total params: 753\n",
      "Trainable params: 753\n",
      "Non-trainable params: 0\n",
      "_________________________________________________________________\n"
     ]
    },
    {
     "name": "stderr",
     "output_type": "stream",
     "text": [
      "2021-07-28 13:22:35.915907: I tensorflow/core/profiler/lib/profiler_session.cc:126] Profiler session initializing.\n",
      "2021-07-28 13:22:35.915942: I tensorflow/core/profiler/lib/profiler_session.cc:141] Profiler session started.\n",
      "2021-07-28 13:22:35.916007: I tensorflow/core/profiler/lib/profiler_session.cc:159] Profiler session tear down.\n"
     ]
    },
    {
     "name": "stdout",
     "output_type": "stream",
     "text": [
      "WARNING:tensorflow:Callback method `on_train_batch_end` is slow compared to the batch time (batch time: 0.0016s vs `on_train_batch_end` time: 0.0103s). Check your callbacks.\n",
      "\n",
      "Epoch: 0, accuracy:0.4718,  binary_crossentropy:0.7182,  loss:0.7182,  val_accuracy:0.4620,  val_binary_crossentropy:0.7006,  val_loss:0.7006,  \n",
      "."
     ]
    },
    {
     "name": "stderr",
     "output_type": "stream",
     "text": [
      "2021-07-28 13:22:36.520200: I tensorflow/core/profiler/lib/profiler_session.cc:126] Profiler session initializing.\n",
      "2021-07-28 13:22:36.520234: I tensorflow/core/profiler/lib/profiler_session.cc:141] Profiler session started.\n",
      "2021-07-28 13:22:36.547955: I tensorflow/core/profiler/lib/profiler_session.cc:66] Profiler session collecting data.\n",
      "2021-07-28 13:22:36.552798: I tensorflow/core/profiler/lib/profiler_session.cc:159] Profiler session tear down.\n",
      "2021-07-28 13:22:36.562526: I tensorflow/core/profiler/rpc/client/save_profile.cc:137] Creating directory: /tmp/tmpip7vzgpl/tensorboard_logs/sizes/Small/train/plugins/profile/2021_07_28_13_22_36\n",
      "2021-07-28 13:22:36.568888: I tensorflow/core/profiler/rpc/client/save_profile.cc:143] Dumped gzipped tool data for trace.json.gz to /tmp/tmpip7vzgpl/tensorboard_logs/sizes/Small/train/plugins/profile/2021_07_28_13_22_36/leno-lab.trace.json.gz\n",
      "2021-07-28 13:22:36.573081: I tensorflow/core/profiler/rpc/client/save_profile.cc:137] Creating directory: /tmp/tmpip7vzgpl/tensorboard_logs/sizes/Small/train/plugins/profile/2021_07_28_13_22_36\n",
      "2021-07-28 13:22:36.573156: I tensorflow/core/profiler/rpc/client/save_profile.cc:143] Dumped gzipped tool data for memory_profile.json.gz to /tmp/tmpip7vzgpl/tensorboard_logs/sizes/Small/train/plugins/profile/2021_07_28_13_22_36/leno-lab.memory_profile.json.gz\n",
      "2021-07-28 13:22:36.573370: I tensorflow/core/profiler/rpc/client/capture_profile.cc:251] Creating directory: /tmp/tmpip7vzgpl/tensorboard_logs/sizes/Small/train/plugins/profile/2021_07_28_13_22_36Dumped tool data for xplane.pb to /tmp/tmpip7vzgpl/tensorboard_logs/sizes/Small/train/plugins/profile/2021_07_28_13_22_36/leno-lab.xplane.pb\n",
      "Dumped tool data for overview_page.pb to /tmp/tmpip7vzgpl/tensorboard_logs/sizes/Small/train/plugins/profile/2021_07_28_13_22_36/leno-lab.overview_page.pb\n",
      "Dumped tool data for input_pipeline.pb to /tmp/tmpip7vzgpl/tensorboard_logs/sizes/Small/train/plugins/profile/2021_07_28_13_22_36/leno-lab.input_pipeline.pb\n",
      "Dumped tool data for tensorflow_stats.pb to /tmp/tmpip7vzgpl/tensorboard_logs/sizes/Small/train/plugins/profile/2021_07_28_13_22_36/leno-lab.tensorflow_stats.pb\n",
      "Dumped tool data for kernel_stats.pb to /tmp/tmpip7vzgpl/tensorboard_logs/sizes/Small/train/plugins/profile/2021_07_28_13_22_36/leno-lab.kernel_stats.pb\n",
      "\n"
     ]
    },
    {
     "name": "stdout",
     "output_type": "stream",
     "text": [
      "...................................................................................................\n",
      "Epoch: 100, accuracy:0.6488,  binary_crossentropy:0.5993,  loss:0.5993,  val_accuracy:0.6440,  val_binary_crossentropy:0.6002,  val_loss:0.6002,  \n",
      "....................................................................................................\n",
      "Epoch: 200, accuracy:0.6740,  binary_crossentropy:0.5813,  loss:0.5813,  val_accuracy:0.6810,  val_binary_crossentropy:0.5794,  val_loss:0.5794,  \n",
      "....................................................................................................\n",
      "Epoch: 300, accuracy:0.6831,  binary_crossentropy:0.5728,  loss:0.5728,  val_accuracy:0.6630,  val_binary_crossentropy:0.5809,  val_loss:0.5809,  \n",
      "....................................................................................................\n",
      "Epoch: 400, accuracy:0.6907,  binary_crossentropy:0.5658,  loss:0.5658,  val_accuracy:0.6600,  val_binary_crossentropy:0.5820,  val_loss:0.5820,  \n",
      "......................................................................................"
     ]
    }
   ],
   "source": [
    "size_histories['Small'] = compile_and_fit(small_model, 'sizes/Small')"
   ]
  },
  {
   "cell_type": "markdown",
   "id": "82b10a6d-d62c-44d6-92d3-9f4fb7ba36f0",
   "metadata": {},
   "source": [
    "# Medium model\n",
    "\n",
    "Now try with 3 hidden layers with 64 units each:"
   ]
  },
  {
   "cell_type": "code",
   "execution_count": 27,
   "id": "2893a558-0556-4e1c-8a53-12477cc3d4ab",
   "metadata": {},
   "outputs": [],
   "source": [
    "medium_model = tf.keras.Sequential([\n",
    "    layers.Dense(64, activation='elu', input_shape=(FEATURES,)),\n",
    "    layers.Dense(64, activation='elu'),\n",
    "    layers.Dense(64, activation='elu'),\n",
    "    layers.Dense(1)\n",
    "])"
   ]
  },
  {
   "cell_type": "code",
   "execution_count": 28,
   "id": "f0ae6702-500f-4518-8fda-6927f02a646c",
   "metadata": {},
   "outputs": [
    {
     "name": "stdout",
     "output_type": "stream",
     "text": [
      "Model: \"sequential_2\"\n",
      "_________________________________________________________________\n",
      "Layer (type)                 Output Shape              Param #   \n",
      "=================================================================\n",
      "dense_5 (Dense)              (None, 64)                1856      \n",
      "_________________________________________________________________\n",
      "dense_6 (Dense)              (None, 64)                4160      \n",
      "_________________________________________________________________\n",
      "dense_7 (Dense)              (None, 64)                4160      \n",
      "_________________________________________________________________\n",
      "dense_8 (Dense)              (None, 1)                 65        \n",
      "=================================================================\n",
      "Total params: 10,241\n",
      "Trainable params: 10,241\n",
      "Non-trainable params: 0\n",
      "_________________________________________________________________\n"
     ]
    },
    {
     "name": "stderr",
     "output_type": "stream",
     "text": [
      "2021-07-28 13:29:24.668963: I tensorflow/core/profiler/lib/profiler_session.cc:126] Profiler session initializing.\n",
      "2021-07-28 13:29:24.669026: I tensorflow/core/profiler/lib/profiler_session.cc:141] Profiler session started.\n",
      "2021-07-28 13:29:24.670252: I tensorflow/core/profiler/lib/profiler_session.cc:159] Profiler session tear down.\n"
     ]
    },
    {
     "name": "stdout",
     "output_type": "stream",
     "text": [
      "WARNING:tensorflow:Callback method `on_train_batch_end` is slow compared to the batch time (batch time: 0.0026s vs `on_train_batch_end` time: 0.0106s). Check your callbacks.\n"
     ]
    },
    {
     "name": "stderr",
     "output_type": "stream",
     "text": [
      "2021-07-28 13:29:25.064033: I tensorflow/core/profiler/lib/profiler_session.cc:126] Profiler session initializing.\n",
      "2021-07-28 13:29:25.064060: I tensorflow/core/profiler/lib/profiler_session.cc:141] Profiler session started.\n",
      "2021-07-28 13:29:25.092959: I tensorflow/core/profiler/lib/profiler_session.cc:66] Profiler session collecting data.\n",
      "2021-07-28 13:29:25.098138: I tensorflow/core/profiler/lib/profiler_session.cc:159] Profiler session tear down.\n",
      "2021-07-28 13:29:25.108331: I tensorflow/core/profiler/rpc/client/save_profile.cc:137] Creating directory: /tmp/tmpip7vzgpl/tensorboard_logs/sizes/Medium/train/plugins/profile/2021_07_28_13_29_25\n",
      "2021-07-28 13:29:25.114773: I tensorflow/core/profiler/rpc/client/save_profile.cc:143] Dumped gzipped tool data for trace.json.gz to /tmp/tmpip7vzgpl/tensorboard_logs/sizes/Medium/train/plugins/profile/2021_07_28_13_29_25/leno-lab.trace.json.gz\n",
      "2021-07-28 13:29:25.119489: I tensorflow/core/profiler/rpc/client/save_profile.cc:137] Creating directory: /tmp/tmpip7vzgpl/tensorboard_logs/sizes/Medium/train/plugins/profile/2021_07_28_13_29_25\n",
      "2021-07-28 13:29:25.119583: I tensorflow/core/profiler/rpc/client/save_profile.cc:143] Dumped gzipped tool data for memory_profile.json.gz to /tmp/tmpip7vzgpl/tensorboard_logs/sizes/Medium/train/plugins/profile/2021_07_28_13_29_25/leno-lab.memory_profile.json.gz\n",
      "2021-07-28 13:29:25.119826: I tensorflow/core/profiler/rpc/client/capture_profile.cc:251] Creating directory: /tmp/tmpip7vzgpl/tensorboard_logs/sizes/Medium/train/plugins/profile/2021_07_28_13_29_25Dumped tool data for xplane.pb to /tmp/tmpip7vzgpl/tensorboard_logs/sizes/Medium/train/plugins/profile/2021_07_28_13_29_25/leno-lab.xplane.pb\n",
      "Dumped tool data for overview_page.pb to /tmp/tmpip7vzgpl/tensorboard_logs/sizes/Medium/train/plugins/profile/2021_07_28_13_29_25/leno-lab.overview_page.pb\n",
      "Dumped tool data for input_pipeline.pb to /tmp/tmpip7vzgpl/tensorboard_logs/sizes/Medium/train/plugins/profile/2021_07_28_13_29_25/leno-lab.input_pipeline.pb\n",
      "Dumped tool data for tensorflow_stats.pb to /tmp/tmpip7vzgpl/tensorboard_logs/sizes/Medium/train/plugins/profile/2021_07_28_13_29_25/leno-lab.tensorflow_stats.pb\n",
      "Dumped tool data for kernel_stats.pb to /tmp/tmpip7vzgpl/tensorboard_logs/sizes/Medium/train/plugins/profile/2021_07_28_13_29_25/leno-lab.kernel_stats.pb\n",
      "\n"
     ]
    },
    {
     "name": "stdout",
     "output_type": "stream",
     "text": [
      "\n",
      "Epoch: 0, accuracy:0.5020,  binary_crossentropy:0.7000,  loss:0.7000,  val_accuracy:0.4770,  val_binary_crossentropy:0.6754,  val_loss:0.6754,  \n",
      "....................................................................................................\n",
      "Epoch: 100, accuracy:0.7178,  binary_crossentropy:0.5333,  loss:0.5333,  val_accuracy:0.6460,  val_binary_crossentropy:0.6138,  val_loss:0.6138,  \n",
      "....................................................................................................\n",
      "Epoch: 200, accuracy:0.7829,  binary_crossentropy:0.4351,  loss:0.4351,  val_accuracy:0.6320,  val_binary_crossentropy:0.7028,  val_loss:0.7028,  \n",
      ".............................................."
     ]
    }
   ],
   "source": [
    "size_histories['Medium'] = compile_and_fit(medium_model, 'sizes/Medium')"
   ]
  },
  {
   "cell_type": "markdown",
   "id": "72dea870-30c6-4444-917c-fda8deedb694",
   "metadata": {},
   "source": [
    "# Large model\n",
    "\n",
    "As an exercise, we can create an even larger model, and see how quickly it begins overfitting. Next, let's add to this benchmark a network that has much more capacity, far more than the problem would warrant:"
   ]
  },
  {
   "cell_type": "code",
   "execution_count": 29,
   "id": "d156edca-9b82-4b2c-bd20-9535bd66f109",
   "metadata": {},
   "outputs": [],
   "source": [
    "large_model = tf.keras.Sequential([\n",
    "    layers.Dense(512, activation='elu', input_shape=(FEATURES,)),\n",
    "    layers.Dense(512, activation='elu'),\n",
    "    layers.Dense(512, activation='elu'),\n",
    "    layers.Dense(512, activation='elu'),\n",
    "    layers.Dense(1)\n",
    "])"
   ]
  },
  {
   "cell_type": "code",
   "execution_count": 30,
   "id": "50e057e7-2fb4-4a0d-a293-09f39958c6a0",
   "metadata": {},
   "outputs": [
    {
     "name": "stdout",
     "output_type": "stream",
     "text": [
      "Model: \"sequential_3\"\n",
      "_________________________________________________________________\n",
      "Layer (type)                 Output Shape              Param #   \n",
      "=================================================================\n",
      "dense_9 (Dense)              (None, 512)               14848     \n",
      "_________________________________________________________________\n",
      "dense_10 (Dense)             (None, 512)               262656    \n",
      "_________________________________________________________________\n",
      "dense_11 (Dense)             (None, 512)               262656    \n",
      "_________________________________________________________________\n",
      "dense_12 (Dense)             (None, 512)               262656    \n",
      "_________________________________________________________________\n",
      "dense_13 (Dense)             (None, 1)                 513       \n",
      "=================================================================\n",
      "Total params: 803,329\n",
      "Trainable params: 803,329\n",
      "Non-trainable params: 0\n",
      "_________________________________________________________________\n"
     ]
    },
    {
     "name": "stderr",
     "output_type": "stream",
     "text": [
      "2021-07-28 13:38:19.437652: I tensorflow/core/profiler/lib/profiler_session.cc:126] Profiler session initializing.\n",
      "2021-07-28 13:38:19.437706: I tensorflow/core/profiler/lib/profiler_session.cc:141] Profiler session started.\n",
      "2021-07-28 13:38:19.438008: I tensorflow/core/profiler/lib/profiler_session.cc:159] Profiler session tear down.\n",
      "2021-07-28 13:38:19.874687: I tensorflow/core/profiler/lib/profiler_session.cc:126] Profiler session initializing.\n",
      "2021-07-28 13:38:19.874715: I tensorflow/core/profiler/lib/profiler_session.cc:141] Profiler session started.\n",
      "2021-07-28 13:38:19.915405: I tensorflow/core/profiler/lib/profiler_session.cc:66] Profiler session collecting data.\n",
      "2021-07-28 13:38:19.919882: I tensorflow/core/profiler/lib/profiler_session.cc:159] Profiler session tear down.\n",
      "2021-07-28 13:38:19.929528: I tensorflow/core/profiler/rpc/client/save_profile.cc:137] Creating directory: /tmp/tmpip7vzgpl/tensorboard_logs/sizes/large/train/plugins/profile/2021_07_28_13_38_19\n",
      "2021-07-28 13:38:19.935969: I tensorflow/core/profiler/rpc/client/save_profile.cc:143] Dumped gzipped tool data for trace.json.gz to /tmp/tmpip7vzgpl/tensorboard_logs/sizes/large/train/plugins/profile/2021_07_28_13_38_19/leno-lab.trace.json.gz\n",
      "2021-07-28 13:38:19.940331: I tensorflow/core/profiler/rpc/client/save_profile.cc:137] Creating directory: /tmp/tmpip7vzgpl/tensorboard_logs/sizes/large/train/plugins/profile/2021_07_28_13_38_19\n",
      "2021-07-28 13:38:19.940408: I tensorflow/core/profiler/rpc/client/save_profile.cc:143] Dumped gzipped tool data for memory_profile.json.gz to /tmp/tmpip7vzgpl/tensorboard_logs/sizes/large/train/plugins/profile/2021_07_28_13_38_19/leno-lab.memory_profile.json.gz\n",
      "2021-07-28 13:38:19.940620: I tensorflow/core/profiler/rpc/client/capture_profile.cc:251] Creating directory: /tmp/tmpip7vzgpl/tensorboard_logs/sizes/large/train/plugins/profile/2021_07_28_13_38_19Dumped tool data for xplane.pb to /tmp/tmpip7vzgpl/tensorboard_logs/sizes/large/train/plugins/profile/2021_07_28_13_38_19/leno-lab.xplane.pb\n",
      "Dumped tool data for overview_page.pb to /tmp/tmpip7vzgpl/tensorboard_logs/sizes/large/train/plugins/profile/2021_07_28_13_38_19/leno-lab.overview_page.pb\n",
      "Dumped tool data for input_pipeline.pb to /tmp/tmpip7vzgpl/tensorboard_logs/sizes/large/train/plugins/profile/2021_07_28_13_38_19/leno-lab.input_pipeline.pb\n",
      "Dumped tool data for tensorflow_stats.pb to /tmp/tmpip7vzgpl/tensorboard_logs/sizes/large/train/plugins/profile/2021_07_28_13_38_19/leno-lab.tensorflow_stats.pb\n",
      "Dumped tool data for kernel_stats.pb to /tmp/tmpip7vzgpl/tensorboard_logs/sizes/large/train/plugins/profile/2021_07_28_13_38_19/leno-lab.kernel_stats.pb\n",
      "\n"
     ]
    },
    {
     "name": "stdout",
     "output_type": "stream",
     "text": [
      "\n",
      "Epoch: 0, accuracy:0.5184,  binary_crossentropy:0.8212,  loss:0.8212,  val_accuracy:0.4800,  val_binary_crossentropy:0.6850,  val_loss:0.6850,  \n",
      "....................................................................................................\n",
      "Epoch: 100, accuracy:1.0000,  binary_crossentropy:0.0022,  loss:0.0022,  val_accuracy:0.6600,  val_binary_crossentropy:1.7918,  val_loss:1.7918,  \n",
      "....................................................................................................\n",
      "Epoch: 200, accuracy:1.0000,  binary_crossentropy:0.0001,  loss:0.0001,  val_accuracy:0.6550,  val_binary_crossentropy:2.4688,  val_loss:2.4688,  \n",
      "..........................."
     ]
    }
   ],
   "source": [
    "size_histories['Large'] = compile_and_fit(large_model, 'sizes/large')"
   ]
  },
  {
   "cell_type": "markdown",
   "id": "3cef560d-832d-4281-ac98-8cb51c683d0f",
   "metadata": {},
   "source": [
    "# Plot the training and validation losses\n",
    "\n",
    "The solid lines show the training loss, and the dashed lines show the validation loss (remember: a lower validation loss indicates a better model)\n",
    "\n",
    "While building a larger model gives it more power, if this power is not constrained somehow it can easily overfit to the training set.\n",
    "\n",
    "In this example, typically, only the ```Tiny``` model manages to avoid overfitting altogether, and each of the larger models overfit the data more quickly. This becomes so severe for the ```Large``` model that you need to switch the plot to a log-scale to really see what's happening.\n",
    "\n",
    "This is apparent if you plot and compare the validation metrics to the training metrics.\n",
    "    - It's normal for there to be a small difference.\n",
    "    - If both metrics are moving in the same direction, everything is fine.\n",
    "    - If the validation matric begins to stagnate while the training metric continues to improve, you are probably close to overfitting.\n",
    "    - If the validation metric is going in the wrong direction, the model is clearly overfitting."
   ]
  },
  {
   "cell_type": "code",
   "execution_count": 31,
   "id": "41267a6d-97f7-412d-bd6f-89b200dce61a",
   "metadata": {},
   "outputs": [
    {
     "data": {
      "text/plain": [
       "Text(0.5, 0, 'Epochs [Log Scale]')"
      ]
     },
     "execution_count": 31,
     "metadata": {},
     "output_type": "execute_result"
    },
    {
     "data": {
      "image/png": "[encoded data removed]",
      "text/plain": [
       "<Figure size 432x288 with 1 Axes>"
      ]
     },
     "metadata": {
      "needs_background": "light"
     },
     "output_type": "display_data"
    }
   ],
   "source": [
    "plotter.plot(size_histories)\n",
    "a = plt.xscale('log')\n",
    "plt.xlim([5, max(plt.xlim())])\n",
    "plt.ylim([0.5, 0.7])\n",
    "plt.xlabel(\"Epochs [Log Scale]\")"
   ]
  },
  {
   "cell_type": "markdown",
   "id": "bb0e684e-0f17-4541-8c5b-7a955467660d",
   "metadata": {},
   "source": [
    "# View in TensorBoard\n",
    "\n",
    "These models all wrote TensorBoard logs during training.\n",
    "\n",
    "Open an embedded TensorBoard viewer inside a notebook:"
   ]
  },
  {
   "cell_type": "code",
   "execution_count": 32,
   "id": "48f39125-1f20-4fd4-8455-4ba06fb7c376",
   "metadata": {},
   "outputs": [
    {
     "data": {
      "text/html": [
       "\n",
       "      <iframe id=\"tensorboard-frame-bbc38da95099d1a0\" width=\"100%\" height=\"800\" frameborder=\"0\">\n",
       "      </iframe>\n",
       "      <script>\n",
       "        (function() {\n",
       "          const frame = document.getElementById(\"tensorboard-frame-bbc38da95099d1a0\");\n",
       "          const url = new URL(\"/\", window.location);\n",
       "          const port = 6007;\n",
       "          if (port) {\n",
       "            url.port = port;\n",
       "          }\n",
       "          frame.src = url;\n",
       "        })();\n",
       "      </script>\n",
       "    "
      ],
      "text/plain": [
       "<IPython.core.display.HTML object>"
      ]
     },
     "metadata": {},
     "output_type": "display_data"
    }
   ],
   "source": [
    "# Load the TensorBoard notebook extension\n",
    "%load_ext tensorboard\n",
    "\n",
    "# Open an embedded TensorBoard viewer\n",
    "%tensorboard --logdir {logdir}/sizes"
   ]
  },
  {
   "cell_type": "markdown",
   "id": "401bc8ff-d98a-4580-b686-11603738cd94",
   "metadata": {},
   "source": [
    "You can view the results of a previous run of this notebook on TensorBoard.dev\n",
    "\n",
    "TensorBoard.dev is a managed experience for hosting, tracking, and sharing ML experiments with everyone.\n",
    "\n",
    "It's also included in an ```<iframe>``` for convenience:"
   ]
  },
  {
   "cell_type": "code",
   "execution_count": 33,
   "id": "37d9db22-4575-4046-8db1-2d9de602e18e",
   "metadata": {},
   "outputs": [
    {
     "data": {
      "text/html": [
       "\n",
       "        <iframe\n",
       "            width=\"100%\"\n",
       "            height=\"800px\"\n",
       "            src=\"https://tensorboard.dev/experiment/vW7jmmF9TmKmy3rbheMQpw/#scalars&_smoothingWeight=0.97\"\n",
       "            frameborder=\"0\"\n",
       "            allowfullscreen\n",
       "        ></iframe>\n",
       "        "
      ],
      "text/plain": [
       "<IPython.lib.display.IFrame at 0x7fb75c335100>"
      ]
     },
     "execution_count": 33,
     "metadata": {},
     "output_type": "execute_result"
    }
   ],
   "source": [
    "display.IFrame(\n",
    "    src='https://tensorboard.dev/experiment/vW7jmmF9TmKmy3rbheMQpw/#scalars&_smoothingWeight=0.97',\n",
    "    width='100%', height='800px')"
   ]
  },
  {
   "cell_type": "markdown",
   "id": "bc324fa3-0e23-45e9-869d-01b5a3282357",
   "metadata": {},
   "source": [
    "# Strategies to prevent overfitting\n",
    "\n",
    "Before getting into the content of this section, copy the training logs from the ```Tiny``` model above, to use as baseline for comparison."
   ]
  },
  {
   "cell_type": "code",
   "execution_count": 34,
   "id": "a4bc6397-bc10-45a1-ba92-266efd5803c1",
   "metadata": {},
   "outputs": [
    {
     "data": {
      "text/plain": [
       "PosixPath('/tmp/tmpip7vzgpl/tensorboard_logs/regularizers/Tiny')"
      ]
     },
     "execution_count": 34,
     "metadata": {},
     "output_type": "execute_result"
    }
   ],
   "source": [
    "shutil.rmtree(logdir/'regularizers/Tiny', ignore_errors=True)\n",
    "shutil.copytree(logdir/'sizes/Tiny', logdir/'regularizers/Tiny')"
   ]
  },
  {
   "cell_type": "code",
   "execution_count": 35,
   "id": "6b5d5610-6a81-48a4-b180-c9e9d203e661",
   "metadata": {},
   "outputs": [],
   "source": [
    "regularizer_histories = {}\n",
    "regularizer_histories['Tiny'] = size_histories['Tiny']"
   ]
  },
  {
   "cell_type": "markdown",
   "id": "03f1146e-f156-430d-b828-f3fa8e667980",
   "metadata": {},
   "source": [
    "# Add weight regularization\n",
    "\n",
    "You may be familiar with Occam's Razor principle: given two explanations for something, the explanation most likely to be correct is the \"simplest\" one, the one that makes the least amount of assumptions. This also applies to the models learned by neural networks: given some training data and a network architecture, there are multiple sets of weights values (multiple models) that could explain the data, and simpler models are less likely to overfit than complex ones.\n",
    "\n",
    "A \"simple model\" in this context is a model where the distribution of parameter values has less entropy (or a model with fewer parameters altogether, as we saw in the section above). Thus a common way to mitigate overfitting is to put constraints on the complexity of a network by forcing its weights only to take small values, which makes the distribution of weight values more \"regular\". This is called weight regularization, and it is done by adding the loss function of the network a cost associated with having large weights. This cost comes in two flavors:\n",
    "\n",
    "    - L1 Regularization, where the cost added is proportional to the square of the value of the weights coefficients (i.e. to what is called the \"L1 norm\" of the weights).\n",
    "    - L2 Regularization, where the cost added is proportional to the square of the value of the weights coefficients (i.e. to what is called the squared \"L2 norm\" of the weights). L2 regularization is also called weight decay in the context of neural network. Don't let the different name confuse you: weight decay is mathematically the same as L2 regularization.\n",
    "    \n",
    "L1 regularization pushes weights towards encouraging a sparse model. L2 regularization will penalize the weights parameters without making them sparse since the penalty goes to zero for small weights-one reason why L2 is more common.\n",
    "\n",
    "In ```tf.keras```, weight regularization is added by passing weight regularizer instances to layers as keyword arguments. \n",
    "\n",
    "Let's add L2 weight regularization now."
   ]
  },
  {
   "cell_type": "code",
   "execution_count": 36,
   "id": "1d8d7e5a-69b5-4838-80b3-c50ac7fd8fa4",
   "metadata": {},
   "outputs": [],
   "source": [
    "l2_model = tf.keras.Sequential([\n",
    "    layers.Dense(512, activation='elu',\n",
    "                kernel_regularizer=regularizers.l2(0.001),\n",
    "                input_shape=(FEATURES,)),\n",
    "    layers.Dense(512, activation='elu',\n",
    "                kernel_regularizer=regularizers.l2(0.001)),\n",
    "    layers.Dense(512, activation='elu',\n",
    "                kernel_regularizer=regularizers.l2(0.001)),\n",
    "    layers.Dense(1)\n",
    "])"
   ]
  },
  {
   "cell_type": "code",
   "execution_count": 37,
   "id": "ba73bd3e-ffd8-463f-86c6-01a6fec076fa",
   "metadata": {},
   "outputs": [
    {
     "name": "stdout",
     "output_type": "stream",
     "text": [
      "Model: \"sequential_4\"\n",
      "_________________________________________________________________\n",
      "Layer (type)                 Output Shape              Param #   \n",
      "=================================================================\n",
      "dense_14 (Dense)             (None, 512)               14848     \n",
      "_________________________________________________________________\n",
      "dense_15 (Dense)             (None, 512)               262656    \n",
      "_________________________________________________________________\n",
      "dense_16 (Dense)             (None, 512)               262656    \n",
      "_________________________________________________________________\n",
      "dense_17 (Dense)             (None, 1)                 513       \n",
      "=================================================================\n",
      "Total params: 540,673\n",
      "Trainable params: 540,673\n",
      "Non-trainable params: 0\n",
      "_________________________________________________________________\n"
     ]
    },
    {
     "name": "stderr",
     "output_type": "stream",
     "text": [
      "2021-07-28 14:45:42.001601: I tensorflow/core/profiler/lib/profiler_session.cc:126] Profiler session initializing.\n",
      "2021-07-28 14:45:42.001812: I tensorflow/core/profiler/lib/profiler_session.cc:141] Profiler session started.\n",
      "2021-07-28 14:45:42.001945: I tensorflow/core/profiler/lib/profiler_session.cc:159] Profiler session tear down.\n",
      "2021-07-28 14:45:42.487573: I tensorflow/core/profiler/lib/profiler_session.cc:126] Profiler session initializing.\n",
      "2021-07-28 14:45:42.487601: I tensorflow/core/profiler/lib/profiler_session.cc:141] Profiler session started.\n",
      "2021-07-28 14:45:42.531182: I tensorflow/core/profiler/lib/profiler_session.cc:66] Profiler session collecting data.\n",
      "2021-07-28 14:45:42.536868: I tensorflow/core/profiler/lib/profiler_session.cc:159] Profiler session tear down.\n",
      "2021-07-28 14:45:42.547503: I tensorflow/core/profiler/rpc/client/save_profile.cc:137] Creating directory: /tmp/tmpip7vzgpl/tensorboard_logs/regularizers/l2/train/plugins/profile/2021_07_28_14_45_42\n",
      "2021-07-28 14:45:42.554868: I tensorflow/core/profiler/rpc/client/save_profile.cc:143] Dumped gzipped tool data for trace.json.gz to /tmp/tmpip7vzgpl/tensorboard_logs/regularizers/l2/train/plugins/profile/2021_07_28_14_45_42/leno-lab.trace.json.gz\n",
      "2021-07-28 14:45:42.561863: I tensorflow/core/profiler/rpc/client/save_profile.cc:137] Creating directory: /tmp/tmpip7vzgpl/tensorboard_logs/regularizers/l2/train/plugins/profile/2021_07_28_14_45_42\n",
      "2021-07-28 14:45:42.561959: I tensorflow/core/profiler/rpc/client/save_profile.cc:143] Dumped gzipped tool data for memory_profile.json.gz to /tmp/tmpip7vzgpl/tensorboard_logs/regularizers/l2/train/plugins/profile/2021_07_28_14_45_42/leno-lab.memory_profile.json.gz\n",
      "2021-07-28 14:45:42.562151: I tensorflow/core/profiler/rpc/client/capture_profile.cc:251] Creating directory: /tmp/tmpip7vzgpl/tensorboard_logs/regularizers/l2/train/plugins/profile/2021_07_28_14_45_42Dumped tool data for xplane.pb to /tmp/tmpip7vzgpl/tensorboard_logs/regularizers/l2/train/plugins/profile/2021_07_28_14_45_42/leno-lab.xplane.pb\n",
      "Dumped tool data for overview_page.pb to /tmp/tmpip7vzgpl/tensorboard_logs/regularizers/l2/train/plugins/profile/2021_07_28_14_45_42/leno-lab.overview_page.pb\n",
      "Dumped tool data for input_pipeline.pb to /tmp/tmpip7vzgpl/tensorboard_logs/regularizers/l2/train/plugins/profile/2021_07_28_14_45_42/leno-lab.input_pipeline.pb\n",
      "Dumped tool data for tensorflow_stats.pb to /tmp/tmpip7vzgpl/tensorboard_logs/regularizers/l2/train/plugins/profile/2021_07_28_14_45_42/leno-lab.tensorflow_stats.pb\n",
      "Dumped tool data for kernel_stats.pb to /tmp/tmpip7vzgpl/tensorboard_logs/regularizers/l2/train/plugins/profile/2021_07_28_14_45_42/leno-lab.kernel_stats.pb\n",
      "\n"
     ]
    },
    {
     "name": "stdout",
     "output_type": "stream",
     "text": [
      "\n",
      "Epoch: 0, accuracy:0.5074,  binary_crossentropy:0.8026,  loss:1.8336,  val_accuracy:0.5830,  val_binary_crossentropy:0.6815,  val_loss:1.6570,  \n",
      "....................................................................................................\n",
      "Epoch: 100, accuracy:0.6532,  binary_crossentropy:0.5983,  loss:0.6188,  val_accuracy:0.6530,  val_binary_crossentropy:0.5817,  val_loss:0.6022,  \n",
      "....................................................................................................\n",
      "Epoch: 200, accuracy:0.6704,  binary_crossentropy:0.5834,  loss:0.6050,  val_accuracy:0.6730,  val_binary_crossentropy:0.5771,  val_loss:0.5988,  \n",
      "....................................................................................................\n",
      "Epoch: 300, accuracy:0.6789,  binary_crossentropy:0.5754,  loss:0.5980,  val_accuracy:0.6390,  val_binary_crossentropy:0.5852,  val_loss:0.6077,  \n",
      "....................................................................................................\n",
      "Epoch: 400, accuracy:0.6893,  binary_crossentropy:0.5655,  loss:0.5890,  val_accuracy:0.6680,  val_binary_crossentropy:0.5817,  val_loss:0.6051,  \n",
      "............................................................................."
     ]
    }
   ],
   "source": [
    "regularizer_histories['l2'] = compile_and_fit(l2_model, 'regularizers/l2')"
   ]
  },
  {
   "cell_type": "markdown",
   "id": "8247d664-9836-4897-beba-fbc3d74e3003",
   "metadata": {},
   "source": [
    "```l2(0.001)``` means that every coefficient in the weight matrix of the layer will add ```0.001 * weight_coefficient_value**2``` to the total loss of the network.\n",
    "\n",
    "That is why we're monitoring the ```binary_crossentropy``` directly. Because it doesn't have this regularization component mixed in.\n",
    "\n",
    "So, that same ```Large``` model with an ```L2``` regularization penalty performs much better:"
   ]
  },
  {
   "cell_type": "code",
   "execution_count": 38,
   "id": "10d2cea6-23a4-4189-b14e-38ecad175f3a",
   "metadata": {},
   "outputs": [
    {
     "data": {
      "text/plain": [
       "(0.5, 0.7)"
      ]
     },
     "execution_count": 38,
     "metadata": {},
     "output_type": "execute_result"
    },
    {
     "data": {
      "image/png": "[encoded data removed]",
      "text/plain": [
       "<Figure size 432x288 with 1 Axes>"
      ]
     },
     "metadata": {
      "needs_background": "light"
     },
     "output_type": "display_data"
    }
   ],
   "source": [
    "plotter.plot(regularizer_histories)\n",
    "plt.ylim([0.5, 0.7])"
   ]
  },
  {
   "cell_type": "markdown",
   "id": "e6313c85-0483-4b40-a001-672d99de69ff",
   "metadata": {},
   "source": [
    "As you can see, the ```L2``` regularized model is now much more competitive with the ```Tiny``` model. This ```L2``` model is also much more resistant to overfitting than the ```Large``` model it was based on despite having the same number of parameters.\n",
    "\n",
    "**More info**\n",
    "There are two important things to note about this sort of regularization.\n",
    "**First**: if you are writting your own training loop, then you need to be sure to ask the model for its regularization looses."
   ]
  },
  {
   "cell_type": "code",
   "execution_count": 39,
   "id": "44753dd0-1e0e-4949-bcc2-55401c03c6f3",
   "metadata": {},
   "outputs": [
    {
     "name": "stderr",
     "output_type": "stream",
     "text": [
      "2021-07-28 15:02:29.904515: W tensorflow/core/framework/cpu_allocator_impl.cc:80] Allocation of 20480000 exceeds 10% of free system memory.\n",
      "2021-07-28 15:02:29.910324: W tensorflow/core/framework/cpu_allocator_impl.cc:80] Allocation of 20480000 exceeds 10% of free system memory.\n",
      "2021-07-28 15:02:29.918579: W tensorflow/core/framework/cpu_allocator_impl.cc:80] Allocation of 20480000 exceeds 10% of free system memory.\n",
      "2021-07-28 15:02:29.936529: W tensorflow/core/framework/cpu_allocator_impl.cc:80] Allocation of 20480000 exceeds 10% of free system memory.\n",
      "2021-07-28 15:02:29.969902: W tensorflow/core/framework/cpu_allocator_impl.cc:80] Allocation of 20480000 exceeds 10% of free system memory.\n"
     ]
    }
   ],
   "source": [
    "result = l2_model(features)\n",
    "regularization_loss=tf.add_n(l2_model.losses)"
   ]
  },
  {
   "cell_type": "markdown",
   "id": "7f8a4779-05b5-403d-8104-39a61919f7c1",
   "metadata": {},
   "source": [
    "**Second:** This implementation works by adding the weight penalties to the model's loss, and then applying a standard optimization procedure after that.\n",
    "\n",
    "There is a second approach that instead only runs the optimizer on the raw loss, and then while applying the calculated step the optimizer also applies some weight decay. This \"Decoupled Weight Decay\" is seen in optimizers like ```optimizers.FTRL``` and ```optimizer.AdamW```\n",
    "\n",
    "# Add dropout\n",
    "\n",
    "Dropout is one of the most effective and most commonly used regularization techniques for neural networks, developed by Hinton and his students at University of Toronto.\n",
    "\n",
    "The intuitive explanation for dropout is that because individual nodes in the network cannot rely on the output of the others, each node must output features that are useful on their own.\n",
    "\n",
    "Dropout, applied to a layer consists of randomly \"dropping out\" (i.e. set to zero) a number of output features of the layer during training. Let's say a given layer would normally have returned a vector [0.5, 0.5, 1.3, 0.8, 1.1] for given input sample during training; after applying dropout, this vector will have a few zero entries distributed at random, eg. [0, 0.5, 1.3, 0, 1.1].\n",
    "\n",
    "The \"dropout rate\" is the fraction of the features that are being zeroed-out; it is usually set between 0.2 and 0.5. At test time, no units are dropped out, and instead the layer's output values are scaled down by a factor equal to the dropout rate, so as to balance for the fact that more units are active than at training time.\n",
    "\n",
    "In ```tf.keras``` you can introduce dropout in a network via the Dropout layer, which gets applied to the output of layers right before.\n",
    "\n",
    "Let's add two Dropout layers in our network to see how well they do at reducing overfitting:"
   ]
  },
  {
   "cell_type": "code",
   "execution_count": 40,
   "id": "0ac2fceb-d764-4e28-be09-562740387dee",
   "metadata": {},
   "outputs": [],
   "source": [
    "dropout_model = tf.keras.Sequential([\n",
    "    layers.Dense(512, activation='elu', input_shape=(FEATURES,)),\n",
    "    layers.Dropout(0.5),\n",
    "    layers.Dense(512, activation='elu'),\n",
    "    layers.Dropout(0.5),\n",
    "    layers.Dense(512, activation='elu'),\n",
    "    layers.Dropout(0.5),\n",
    "    layers.Dense(1)\n",
    "])"
   ]
  },
  {
   "cell_type": "code",
   "execution_count": 41,
   "id": "67e8cb83-0008-4320-ac86-587fa5db05cd",
   "metadata": {},
   "outputs": [
    {
     "name": "stdout",
     "output_type": "stream",
     "text": [
      "Model: \"sequential_5\"\n",
      "_________________________________________________________________\n",
      "Layer (type)                 Output Shape              Param #   \n",
      "=================================================================\n",
      "dense_18 (Dense)             (None, 512)               14848     \n",
      "_________________________________________________________________\n",
      "dropout (Dropout)            (None, 512)               0         \n",
      "_________________________________________________________________\n",
      "dense_19 (Dense)             (None, 512)               262656    \n",
      "_________________________________________________________________\n",
      "dropout_1 (Dropout)          (None, 512)               0         \n",
      "_________________________________________________________________\n",
      "dense_20 (Dense)             (None, 512)               262656    \n",
      "_________________________________________________________________\n",
      "dropout_2 (Dropout)          (None, 512)               0         \n",
      "_________________________________________________________________\n",
      "dense_21 (Dense)             (None, 1)                 513       \n",
      "=================================================================\n",
      "Total params: 540,673\n",
      "Trainable params: 540,673\n",
      "Non-trainable params: 0\n",
      "_________________________________________________________________\n"
     ]
    },
    {
     "name": "stderr",
     "output_type": "stream",
     "text": [
      "2021-07-28 15:14:12.308123: I tensorflow/core/profiler/lib/profiler_session.cc:126] Profiler session initializing.\n",
      "2021-07-28 15:14:12.308151: I tensorflow/core/profiler/lib/profiler_session.cc:141] Profiler session started.\n",
      "2021-07-28 15:14:12.308754: I tensorflow/core/profiler/lib/profiler_session.cc:159] Profiler session tear down.\n",
      "2021-07-28 15:14:12.807976: I tensorflow/core/profiler/lib/profiler_session.cc:126] Profiler session initializing.\n",
      "2021-07-28 15:14:12.808005: I tensorflow/core/profiler/lib/profiler_session.cc:141] Profiler session started.\n",
      "2021-07-28 15:14:12.862034: I tensorflow/core/profiler/lib/profiler_session.cc:66] Profiler session collecting data.\n",
      "2021-07-28 15:14:12.867786: I tensorflow/core/profiler/lib/profiler_session.cc:159] Profiler session tear down.\n",
      "2021-07-28 15:14:12.879583: I tensorflow/core/profiler/rpc/client/save_profile.cc:137] Creating directory: /tmp/tmpip7vzgpl/tensorboard_logs/regularizers/dropout/train/plugins/profile/2021_07_28_15_14_12\n",
      "2021-07-28 15:14:12.886519: I tensorflow/core/profiler/rpc/client/save_profile.cc:143] Dumped gzipped tool data for trace.json.gz to /tmp/tmpip7vzgpl/tensorboard_logs/regularizers/dropout/train/plugins/profile/2021_07_28_15_14_12/leno-lab.trace.json.gz\n",
      "2021-07-28 15:14:12.894579: I tensorflow/core/profiler/rpc/client/save_profile.cc:137] Creating directory: /tmp/tmpip7vzgpl/tensorboard_logs/regularizers/dropout/train/plugins/profile/2021_07_28_15_14_12\n",
      "2021-07-28 15:14:12.894670: I tensorflow/core/profiler/rpc/client/save_profile.cc:143] Dumped gzipped tool data for memory_profile.json.gz to /tmp/tmpip7vzgpl/tensorboard_logs/regularizers/dropout/train/plugins/profile/2021_07_28_15_14_12/leno-lab.memory_profile.json.gz\n",
      "2021-07-28 15:14:12.894891: I tensorflow/core/profiler/rpc/client/capture_profile.cc:251] Creating directory: /tmp/tmpip7vzgpl/tensorboard_logs/regularizers/dropout/train/plugins/profile/2021_07_28_15_14_12Dumped tool data for xplane.pb to /tmp/tmpip7vzgpl/tensorboard_logs/regularizers/dropout/train/plugins/profile/2021_07_28_15_14_12/leno-lab.xplane.pb\n",
      "Dumped tool data for overview_page.pb to /tmp/tmpip7vzgpl/tensorboard_logs/regularizers/dropout/train/plugins/profile/2021_07_28_15_14_12/leno-lab.overview_page.pb\n",
      "Dumped tool data for input_pipeline.pb to /tmp/tmpip7vzgpl/tensorboard_logs/regularizers/dropout/train/plugins/profile/2021_07_28_15_14_12/leno-lab.input_pipeline.pb\n",
      "Dumped tool data for tensorflow_stats.pb to /tmp/tmpip7vzgpl/tensorboard_logs/regularizers/dropout/train/plugins/profile/2021_07_28_15_14_12/leno-lab.tensorflow_stats.pb\n",
      "Dumped tool data for kernel_stats.pb to /tmp/tmpip7vzgpl/tensorboard_logs/regularizers/dropout/train/plugins/profile/2021_07_28_15_14_12/leno-lab.kernel_stats.pb\n",
      "\n"
     ]
    },
    {
     "name": "stdout",
     "output_type": "stream",
     "text": [
      "\n",
      "Epoch: 0, accuracy:0.5148,  binary_crossentropy:0.7522,  loss:0.7522,  val_accuracy:0.5410,  val_binary_crossentropy:0.6610,  val_loss:0.6610,  \n",
      "....................................................................................................\n",
      "Epoch: 100, accuracy:0.6527,  binary_crossentropy:0.5968,  loss:0.5968,  val_accuracy:0.6630,  val_binary_crossentropy:0.5819,  val_loss:0.5819,  \n",
      "....................................................................................................\n",
      "Epoch: 200, accuracy:0.6911,  binary_crossentropy:0.5671,  loss:0.5671,  val_accuracy:0.6890,  val_binary_crossentropy:0.5752,  val_loss:0.5752,  \n",
      "....................................................................................................\n",
      "Epoch: 300, accuracy:0.7148,  binary_crossentropy:0.5314,  loss:0.5314,  val_accuracy:0.7020,  val_binary_crossentropy:0.5928,  val_loss:0.5928,  \n",
      "....................................................................................................\n",
      "Epoch: 400, accuracy:0.7434,  binary_crossentropy:0.4923,  loss:0.4923,  val_accuracy:0.7100,  val_binary_crossentropy:0.5986,  val_loss:0.5986,  \n",
      ".........................."
     ]
    }
   ],
   "source": [
    "regularizer_histories['Dropout'] = compile_and_fit(dropout_model, 'regularizers/dropout')"
   ]
  },
  {
   "cell_type": "code",
   "execution_count": 42,
   "id": "3798dce0-9732-493b-b3fa-3079b4828eb8",
   "metadata": {},
   "outputs": [
    {
     "data": {
      "text/plain": [
       "(0.5, 0.7)"
      ]
     },
     "execution_count": 42,
     "metadata": {},
     "output_type": "execute_result"
    },
    {
     "data": {
      "image/png": "[encoded data removed]",
      "text/plain": [
       "<Figure size 432x288 with 1 Axes>"
      ]
     },
     "metadata": {
      "needs_background": "light"
     },
     "output_type": "display_data"
    }
   ],
   "source": [
    "plotter.plot(regularizer_histories)\n",
    "plt.ylim([0.5, 0.7])"
   ]
  },
  {
   "cell_type": "markdown",
   "id": "008c07b4-7f2d-408b-b0b2-08707b529b32",
   "metadata": {},
   "source": [
    "It's clear from this plot that both of these regularization approches improve the behavior of the ```Large``` model. But this still doesn't beat even the ```Tiny``` baseline model.\n",
    "\n",
    "Next try them both, together, and see if that does better.\n",
    "\n",
    "# Combined L2 dropout"
   ]
  },
  {
   "cell_type": "code",
   "execution_count": 43,
   "id": "8f0e25ed-a5f0-446c-9ef2-2597ce01cc71",
   "metadata": {},
   "outputs": [],
   "source": [
    "combined_model = tf.keras.Sequential([\n",
    "    layers.Dense(512, activation='elu', input_shape=(FEATURES,),\n",
    "                kernel_regularizer=regularizers.l2(1e-4)),\n",
    "    layers.Dropout(0.5),\n",
    "    layers.Dense(512, activation='elu',\n",
    "                  kernel_regularizer=regularizers.l2(1e-4)),\n",
    "    layers.Dropout(0.5),\n",
    "    layers.Dense(512, activation='elu',\n",
    "                  kernel_regularizer=regularizers.l2(1e-4)),\n",
    "    layers.Dropout(0.5),\n",
    "    layers.Dense(512, activation='elu',\n",
    "                 kernel_regularizer=regularizers.l2(1e-4)),\n",
    "    layers.Dropout(0.5),\n",
    "    layers.Dense(1)\n",
    "])"
   ]
  },
  {
   "cell_type": "code",
   "execution_count": 44,
   "id": "b9e7c240-863a-4360-9961-e54d6da5af2b",
   "metadata": {},
   "outputs": [
    {
     "name": "stdout",
     "output_type": "stream",
     "text": [
      "Model: \"sequential_6\"\n",
      "_________________________________________________________________\n",
      "Layer (type)                 Output Shape              Param #   \n",
      "=================================================================\n",
      "dense_22 (Dense)             (None, 512)               14848     \n",
      "_________________________________________________________________\n",
      "dropout_3 (Dropout)          (None, 512)               0         \n",
      "_________________________________________________________________\n",
      "dense_23 (Dense)             (None, 512)               262656    \n",
      "_________________________________________________________________\n",
      "dropout_4 (Dropout)          (None, 512)               0         \n",
      "_________________________________________________________________\n",
      "dense_24 (Dense)             (None, 512)               262656    \n",
      "_________________________________________________________________\n",
      "dropout_5 (Dropout)          (None, 512)               0         \n",
      "_________________________________________________________________\n",
      "dense_25 (Dense)             (None, 512)               262656    \n",
      "_________________________________________________________________\n",
      "dropout_6 (Dropout)          (None, 512)               0         \n",
      "_________________________________________________________________\n",
      "dense_26 (Dense)             (None, 1)                 513       \n",
      "=================================================================\n",
      "Total params: 803,329\n",
      "Trainable params: 803,329\n",
      "Non-trainable params: 0\n",
      "_________________________________________________________________\n"
     ]
    },
    {
     "name": "stderr",
     "output_type": "stream",
     "text": [
      "2021-07-28 15:24:01.931931: I tensorflow/core/profiler/lib/profiler_session.cc:126] Profiler session initializing.\n",
      "2021-07-28 15:24:01.931961: I tensorflow/core/profiler/lib/profiler_session.cc:141] Profiler session started.\n",
      "2021-07-28 15:24:01.933187: I tensorflow/core/profiler/lib/profiler_session.cc:159] Profiler session tear down.\n",
      "2021-07-28 15:24:02.546788: I tensorflow/core/profiler/lib/profiler_session.cc:126] Profiler session initializing.\n",
      "2021-07-28 15:24:02.546823: I tensorflow/core/profiler/lib/profiler_session.cc:141] Profiler session started.\n",
      "2021-07-28 15:24:02.614525: I tensorflow/core/profiler/lib/profiler_session.cc:66] Profiler session collecting data.\n",
      "2021-07-28 15:24:02.620547: I tensorflow/core/profiler/lib/profiler_session.cc:159] Profiler session tear down.\n",
      "2021-07-28 15:24:02.631372: I tensorflow/core/profiler/rpc/client/save_profile.cc:137] Creating directory: /tmp/tmpip7vzgpl/tensorboard_logs/regularizers/combined/train/plugins/profile/2021_07_28_15_24_02\n",
      "2021-07-28 15:24:02.638536: I tensorflow/core/profiler/rpc/client/save_profile.cc:143] Dumped gzipped tool data for trace.json.gz to /tmp/tmpip7vzgpl/tensorboard_logs/regularizers/combined/train/plugins/profile/2021_07_28_15_24_02/leno-lab.trace.json.gz\n",
      "2021-07-28 15:24:02.646022: I tensorflow/core/profiler/rpc/client/save_profile.cc:137] Creating directory: /tmp/tmpip7vzgpl/tensorboard_logs/regularizers/combined/train/plugins/profile/2021_07_28_15_24_02\n",
      "2021-07-28 15:24:02.646101: I tensorflow/core/profiler/rpc/client/save_profile.cc:143] Dumped gzipped tool data for memory_profile.json.gz to /tmp/tmpip7vzgpl/tensorboard_logs/regularizers/combined/train/plugins/profile/2021_07_28_15_24_02/leno-lab.memory_profile.json.gz\n",
      "2021-07-28 15:24:02.646394: I tensorflow/core/profiler/rpc/client/capture_profile.cc:251] Creating directory: /tmp/tmpip7vzgpl/tensorboard_logs/regularizers/combined/train/plugins/profile/2021_07_28_15_24_02Dumped tool data for xplane.pb to /tmp/tmpip7vzgpl/tensorboard_logs/regularizers/combined/train/plugins/profile/2021_07_28_15_24_02/leno-lab.xplane.pb\n",
      "Dumped tool data for overview_page.pb to /tmp/tmpip7vzgpl/tensorboard_logs/regularizers/combined/train/plugins/profile/2021_07_28_15_24_02/leno-lab.overview_page.pb\n",
      "Dumped tool data for input_pipeline.pb to /tmp/tmpip7vzgpl/tensorboard_logs/regularizers/combined/train/plugins/profile/2021_07_28_15_24_02/leno-lab.input_pipeline.pb\n",
      "Dumped tool data for tensorflow_stats.pb to /tmp/tmpip7vzgpl/tensorboard_logs/regularizers/combined/train/plugins/profile/2021_07_28_15_24_02/leno-lab.tensorflow_stats.pb\n",
      "Dumped tool data for kernel_stats.pb to /tmp/tmpip7vzgpl/tensorboard_logs/regularizers/combined/train/plugins/profile/2021_07_28_15_24_02/leno-lab.kernel_stats.pb\n",
      "\n"
     ]
    },
    {
     "name": "stdout",
     "output_type": "stream",
     "text": [
      "\n",
      "Epoch: 0, accuracy:0.5034,  binary_crossentropy:0.7992,  loss:0.9573,  val_accuracy:0.4810,  val_binary_crossentropy:0.6811,  val_loss:0.8386,  \n",
      "....................................................................................................\n",
      "Epoch: 100, accuracy:0.6497,  binary_crossentropy:0.6036,  loss:0.6333,  val_accuracy:0.6540,  val_binary_crossentropy:0.5853,  val_loss:0.6148,  \n",
      "....................................................................................................\n",
      "Epoch: 200, accuracy:0.6512,  binary_crossentropy:0.5940,  loss:0.6200,  val_accuracy:0.6690,  val_binary_crossentropy:0.5768,  val_loss:0.6028,  \n",
      "....................................................................................................\n",
      "Epoch: 300, accuracy:0.6699,  binary_crossentropy:0.5822,  loss:0.6109,  val_accuracy:0.6740,  val_binary_crossentropy:0.5696,  val_loss:0.5983,  \n",
      "....................................................................................................\n",
      "Epoch: 400, accuracy:0.6811,  binary_crossentropy:0.5730,  loss:0.6037,  val_accuracy:0.6720,  val_binary_crossentropy:0.5634,  val_loss:0.5940,  \n",
      "....................................................................................................\n",
      "Epoch: 500, accuracy:0.6785,  binary_crossentropy:0.5728,  loss:0.6051,  val_accuracy:0.6810,  val_binary_crossentropy:0.5592,  val_loss:0.5915,  \n",
      "....................................................................................................\n",
      "Epoch: 600, accuracy:0.6877,  binary_crossentropy:0.5657,  loss:0.5997,  val_accuracy:0.6880,  val_binary_crossentropy:0.5502,  val_loss:0.5841,  \n",
      "....................................................................................................\n",
      "Epoch: 700, accuracy:0.6894,  binary_crossentropy:0.5604,  loss:0.5963,  val_accuracy:0.6970,  val_binary_crossentropy:0.5540,  val_loss:0.5900,  \n",
      "....................................................................................................\n",
      "Epoch: 800, accuracy:0.6899,  binary_crossentropy:0.5586,  loss:0.5965,  val_accuracy:0.6970,  val_binary_crossentropy:0.5478,  val_loss:0.5856,  \n",
      "....................................................................................................\n",
      "Epoch: 900, accuracy:0.7003,  binary_crossentropy:0.5563,  loss:0.5954,  val_accuracy:0.7010,  val_binary_crossentropy:0.5443,  val_loss:0.5834,  \n",
      "....................................................................................................\n",
      "Epoch: 1000, accuracy:0.7013,  binary_crossentropy:0.5503,  loss:0.5909,  val_accuracy:0.6930,  val_binary_crossentropy:0.5494,  val_loss:0.5901,  \n",
      "............................"
     ]
    }
   ],
   "source": [
    "regularizer_histories['Combined'] = compile_and_fit(combined_model, 'regularizers/combined')"
   ]
  },
  {
   "cell_type": "code",
   "execution_count": 45,
   "id": "939bf17d-ee73-4d4a-bf7d-c4890e232080",
   "metadata": {},
   "outputs": [
    {
     "data": {
      "text/plain": [
       "(0.5, 0.7)"
      ]
     },
     "execution_count": 45,
     "metadata": {},
     "output_type": "execute_result"
    },
    {
     "data": {
      "image/png": "[encoded data removed]",
      "text/plain": [
       "<Figure size 432x288 with 1 Axes>"
      ]
     },
     "metadata": {
      "needs_background": "light"
     },
     "output_type": "display_data"
    }
   ],
   "source": [
    "plotter.plot(regularizer_histories)\n",
    "plt.ylim([0.5, 0.7])"
   ]
  },
  {
   "cell_type": "markdown",
   "id": "4c32adbb-b820-4f8b-9ccb-022bcc6a63ae",
   "metadata": {},
   "source": [
    "This model with the ```Combined``` regularization is obviously the best one so far.\n",
    "\n",
    "# View on TensorBoard\n",
    "\n",
    "These models also recorded TensorBoard logs.\n",
    "To open an embedded tensorboard viewer inside a notebook:"
   ]
  },
  {
   "cell_type": "code",
   "execution_count": 46,
   "id": "e66acb09-7bcf-4e68-86f3-27f633a58a02",
   "metadata": {},
   "outputs": [
    {
     "data": {
      "text/html": [
       "\n",
       "      <iframe id=\"tensorboard-frame-32ab563821ffb57e\" width=\"100%\" height=\"800\" frameborder=\"0\">\n",
       "      </iframe>\n",
       "      <script>\n",
       "        (function() {\n",
       "          const frame = document.getElementById(\"tensorboard-frame-32ab563821ffb57e\");\n",
       "          const url = new URL(\"/\", window.location);\n",
       "          const port = 6008;\n",
       "          if (port) {\n",
       "            url.port = port;\n",
       "          }\n",
       "          frame.src = url;\n",
       "        })();\n",
       "      </script>\n",
       "    "
      ],
      "text/plain": [
       "<IPython.core.display.HTML object>"
      ]
     },
     "metadata": {},
     "output_type": "display_data"
    }
   ],
   "source": [
    "%tensorboard --logdir {logdir}/regularizers"
   ]
  },
  {
   "cell_type": "markdown",
   "id": "eded64c4-e598-49f9-876c-c23d5b2a1c1b",
   "metadata": {},
   "source": [
    "# Conclusions\n",
    "\n",
    "To recap: here are the most common ways to prevent overfitting in neural networks:\n",
    "\n",
    "    - Get more training data.\n",
    "    - Reduce the capacity of the network\n",
    "    - Add weight regularization\n",
    "    - Add dropout.\n",
    "    \n",
    "Two more important approaches not covered in this guide are:\n",
    "\n",
    "    - Data-augmentation.\n",
    "    - Batch Normalization."
   ]
  },
  {
   "cell_type": "code",
   "execution_count": null,
   "id": "98a7b13d-8744-4ec1-a6b7-ac0f50179838",
   "metadata": {},
   "outputs": [],
   "source": []
  }
 ],
 "metadata": {
  "kernelspec": {
   "display_name": "Python 3 (ipykernel)",
   "language": "python",
   "name": "python3"
  },
  "language_info": {
   "codemirror_mode": {
    "name": "ipython",
    "version": 3
   },
   "file_extension": ".py",
   "mimetype": "text/x-python",
   "name": "python",
   "nbconvert_exporter": "python",
   "pygments_lexer": "ipython3",
   "version": "3.9.6"
  }
 },
 "nbformat": 4,
 "nbformat_minor": 5
}
