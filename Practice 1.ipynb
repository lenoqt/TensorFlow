{
 "cells": [
  {
   "cell_type": "markdown",
   "id": "251f7b56-e1cf-432e-bc68-94bc475c9906",
   "metadata": {},
   "source": [
    "## This short introduction uses Keras to:\n",
    "1. Build a neural network that classifies images\n",
    "2. Train this neural network\n",
    "3. And, finally, evaluate the accuracy of the model"
   ]
  },
  {
   "cell_type": "code",
   "execution_count": 1,
   "id": "cddffc7f-f5a0-4576-a118-40f9441d3dfc",
   "metadata": {},
   "outputs": [
    {
     "name": "stderr",
     "output_type": "stream",
     "text": [
      "2021-07-12 13:56:05.261078: W tensorflow/stream_executor/platform/default/dso_loader.cc:64] Could not load dynamic library 'libcudart.so.11.0'; dlerror: libcudart.so.11.0: cannot open shared object file: No such file or directory\n",
      "2021-07-12 13:56:05.261104: I tensorflow/stream_executor/cuda/cudart_stub.cc:29] Ignore above cudart dlerror if you do not have a GPU set up on your machine.\n"
     ]
    }
   ],
   "source": [
    "import tensorflow as tf"
   ]
  },
  {
   "cell_type": "markdown",
   "id": "62e2eb50-68e7-407d-84a2-2c1f027ad456",
   "metadata": {},
   "source": [
    "Load and prepare the MMNIST dataset. Convert the samples from integers to floating-point numbers:"
   ]
  },
  {
   "cell_type": "code",
   "execution_count": 2,
   "id": "cd213d72-381f-49c1-93cd-60df623ab5fb",
   "metadata": {},
   "outputs": [
    {
     "name": "stdout",
     "output_type": "stream",
     "text": [
      "Downloading data from https://storage.googleapis.com/tensorflow/tf-keras-datasets/mnist.npz\n",
      "11493376/11490434 [==============================] - 0s 0us/step\n"
     ]
    }
   ],
   "source": [
    "mnist = tf.keras.datasets.mnist\n",
    "(x_train, y_train), (x_test, y_test) = mnist.load_data()"
   ]
  },
  {
   "cell_type": "markdown",
   "id": "f43da858-bc77-4a47-bd70-136fdc11e072",
   "metadata": {},
   "source": [
    "Build the ```tf.keras.Sequential``` model by stacking layers. Choose an optimizer and loss function for training:"
   ]
  },
  {
   "cell_type": "code",
   "execution_count": 3,
   "id": "adbbce4e-f8d3-408f-afeb-98d083a6676e",
   "metadata": {},
   "outputs": [
    {
     "name": "stderr",
     "output_type": "stream",
     "text": [
      "2021-07-12 14:00:21.663202: W tensorflow/stream_executor/platform/default/dso_loader.cc:64] Could not load dynamic library 'libcuda.so.1'; dlerror: libcuda.so.1: cannot open shared object file: No such file or directory\n",
      "2021-07-12 14:00:21.663236: W tensorflow/stream_executor/cuda/cuda_driver.cc:326] failed call to cuInit: UNKNOWN ERROR (303)\n",
      "2021-07-12 14:00:21.663261: I tensorflow/stream_executor/cuda/cuda_diagnostics.cc:156] kernel driver does not appear to be running on this host (leno-lab): /proc/driver/nvidia/version does not exist\n",
      "2021-07-12 14:00:21.663490: I tensorflow/core/platform/cpu_feature_guard.cc:142] This TensorFlow binary is optimized with oneAPI Deep Neural Network Library (oneDNN) to use the following CPU instructions in performance-critical operations:  AVX2 FMA\n",
      "To enable them in other operations, rebuild TensorFlow with the appropriate compiler flags.\n"
     ]
    }
   ],
   "source": [
    "model = tf.keras.models.Sequential([\n",
    "    tf.keras.layers.Flatten(input_shape=(28,28)),\n",
    "    tf.keras.layers.Dense(128, activation='relu'),\n",
    "    tf.keras.layers.Dropout(0.2),\n",
    "    tf.keras.layers.Dense(10)\n",
    "])"
   ]
  },
  {
   "cell_type": "markdown",
   "id": "08a8a5b9-ec83-4fb3-8bed-57bbf6cd0b9e",
   "metadata": {},
   "source": [
    "For each example the model returns a vector of \"logits\" or \"log-odds\" scores, one for each class."
   ]
  },
  {
   "cell_type": "code",
   "execution_count": 4,
   "id": "574ef4cb-d84b-4410-a3ed-e877297d3ff0",
   "metadata": {},
   "outputs": [],
   "source": [
    "predictions = model(x_train[:1]).numpy()"
   ]
  },
  {
   "cell_type": "code",
   "execution_count": 5,
   "id": "f1cbae4e-8fb9-4770-9eef-ad028c769d74",
   "metadata": {},
   "outputs": [
    {
     "data": {
      "text/plain": [
       "array([[  48.49642 ,   23.90725 ,   61.895542,  -34.274017, -191.26398 ,\n",
       "          30.574589,  -71.373825, -157.33699 ,  166.43184 ,  -75.399345]],\n",
       "      dtype=float32)"
      ]
     },
     "execution_count": 5,
     "metadata": {},
     "output_type": "execute_result"
    }
   ],
   "source": [
    "predictions"
   ]
  },
  {
   "cell_type": "markdown",
   "id": "8de54c3b-551b-4aca-be54-6dc98344a265",
   "metadata": {},
   "source": [
    "The ```tf.nn.softmax``` function converts these logits to \"probabilities\" for each class:"
   ]
  },
  {
   "cell_type": "code",
   "execution_count": 6,
   "id": "9ba4977d-f12d-458d-a44d-ee98802c2f5d",
   "metadata": {},
   "outputs": [
    {
     "data": {
      "text/plain": [
       "array([[0., 0., 0., 0., 0., 0., 0., 0., 1., 0.]], dtype=float32)"
      ]
     },
     "execution_count": 6,
     "metadata": {},
     "output_type": "execute_result"
    }
   ],
   "source": [
    "tf.nn.softmax(predictions).numpy()"
   ]
  },
  {
   "cell_type": "markdown",
   "id": "0a4c4127-471b-49db-9977-0a40a4b81244",
   "metadata": {},
   "source": [
    "#### Note: It is possible to bake this ```tf.nn.softmax``` in as the activation function for the last layer of the network. While this can me the model output more directly interpretable, this approach is discouraged as it's impossible to provide an exact and numerically stable loss calculation for all models when using a softmax output.\n",
    "\n",
    "The ```losses.SparseCategoricalCrossentropy``` loss takes a vector of logits and a ```True``` index and returns a scalar loss for each example."
   ]
  },
  {
   "cell_type": "code",
   "execution_count": 7,
   "id": "2a1f23dc-ac26-4045-9a0c-8d7a0586a453",
   "metadata": {},
   "outputs": [],
   "source": [
    "loss_fn = tf.keras.losses.SparseCategoricalCrossentropy(from_logits=True)"
   ]
  },
  {
   "cell_type": "markdown",
   "id": "b2637d73-61f5-44cd-8a9d-485bb8b0e7c4",
   "metadata": {},
   "source": [
    "This loss is equal to the negative log probability of the true class: It is zero if the model is sure of the correct class.\n",
    "\n",
    "This untrained model gives probabilities close to random (1/10 for each class, so the initial loss should be close to ```-tf.math.log(1/10) ~= 2.3```"
   ]
  },
  {
   "cell_type": "code",
   "execution_count": 8,
   "id": "125e7aab-fe83-4bf5-9797-c92182bdc210",
   "metadata": {},
   "outputs": [
    {
     "data": {
      "text/plain": [
       "135.85725"
      ]
     },
     "execution_count": 8,
     "metadata": {},
     "output_type": "execute_result"
    }
   ],
   "source": [
    "loss_fn(y_train[:1], predictions).numpy()"
   ]
  },
  {
   "cell_type": "code",
   "execution_count": 9,
   "id": "e776132f-c963-47bd-88ab-30c2ee85b5c0",
   "metadata": {},
   "outputs": [],
   "source": [
    "model.compile(optimizer='adam',\n",
    "             loss=loss_fn,\n",
    "             metrics=['accuracy'])"
   ]
  },
  {
   "cell_type": "markdown",
   "id": "1bff1d5e-4a42-4188-8bdc-5487921cd8a5",
   "metadata": {},
   "source": [
    "The ```model.fit``` method adjusts the model parameters to minimize the loss:"
   ]
  },
  {
   "cell_type": "code",
   "execution_count": 10,
   "id": "74286e15-9e4d-49bf-8bb5-0afbeefb69b1",
   "metadata": {},
   "outputs": [
    {
     "name": "stderr",
     "output_type": "stream",
     "text": [
      "2021-07-12 14:14:09.489983: I tensorflow/compiler/mlir/mlir_graph_optimization_pass.cc:176] None of the MLIR Optimization Passes are enabled (registered 2)\n",
      "2021-07-12 14:14:09.490380: I tensorflow/core/platform/profile_utils/cpu_utils.cc:114] CPU Frequency: 3193550000 Hz\n"
     ]
    },
    {
     "name": "stdout",
     "output_type": "stream",
     "text": [
      "Epoch 1/5\n",
      "1875/1875 [==============================] - 2s 1ms/step - loss: 2.6652 - accuracy: 0.7614\n",
      "Epoch 2/5\n",
      "1875/1875 [==============================] - 2s 1ms/step - loss: 0.6137 - accuracy: 0.8402\n",
      "Epoch 3/5\n",
      "1875/1875 [==============================] - 2s 1ms/step - loss: 0.4961 - accuracy: 0.8707\n",
      "Epoch 4/5\n",
      "1875/1875 [==============================] - 2s 1ms/step - loss: 0.4225 - accuracy: 0.8898\n",
      "Epoch 5/5\n",
      "1875/1875 [==============================] - 2s 1ms/step - loss: 0.3838 - accuracy: 0.9009\n"
     ]
    },
    {
     "data": {
      "text/plain": [
       "<tensorflow.python.keras.callbacks.History at 0x7fd236e87a60>"
      ]
     },
     "execution_count": 10,
     "metadata": {},
     "output_type": "execute_result"
    }
   ],
   "source": [
    "model.fit(x_train, y_train, epochs=5)"
   ]
  },
  {
   "cell_type": "markdown",
   "id": "729835f7-d381-421f-8aac-208658f18b6d",
   "metadata": {},
   "source": [
    "The ```model.evaluate``` method checks the models performance, usually on a \"Validation set\" or \"Test set\""
   ]
  },
  {
   "cell_type": "code",
   "execution_count": 11,
   "id": "6c043557-c60b-49d2-ba70-92cba34495ec",
   "metadata": {},
   "outputs": [
    {
     "name": "stdout",
     "output_type": "stream",
     "text": [
      "313/313 - 0s - loss: 0.2959 - accuracy: 0.9374\n"
     ]
    },
    {
     "data": {
      "text/plain": [
       "[0.2958924472332001, 0.9373999834060669]"
      ]
     },
     "execution_count": 11,
     "metadata": {},
     "output_type": "execute_result"
    }
   ],
   "source": [
    "model.evaluate(x_test, y_test, verbose=2)"
   ]
  },
  {
   "cell_type": "code",
   "execution_count": null,
   "id": "660ed6af-ab9e-4496-9a53-a8455b7a605a",
   "metadata": {},
   "outputs": [],
   "source": []
  }
 ],
 "metadata": {
  "kernelspec": {
   "display_name": "Python 3 (ipykernel)",
   "language": "python",
   "name": "python3"
  },
  "language_info": {
   "codemirror_mode": {
    "name": "ipython",
    "version": 3
   },
   "file_extension": ".py",
   "mimetype": "text/x-python",
   "name": "python",
   "nbconvert_exporter": "python",
   "pygments_lexer": "ipython3",
   "version": "3.9.6"
  }
 },
 "nbformat": 4,
 "nbformat_minor": 5
}
